{
 "cells": [
  {
   "cell_type": "markdown",
   "id": "3eaca5f2",
   "metadata": {},
   "source": [
    "# Выберем значимые фичи для обучения и предсказания\n",
    "Отбирать будем на основании экспертной оценки (посоветовались какие фичи могут иметь значение)  \n",
    "И проведем небольшой анализ этих фич  \n",
    "\n",
    "В конце напишем функцию, которая подготоваливает обучеющий датасет + словарик с информацией об использованных фичах"
   ]
  },
  {
   "cell_type": "code",
   "execution_count": 1,
   "id": "21f058c8",
   "metadata": {},
   "outputs": [],
   "source": [
    "import pandas as pd\n",
    "import numpy as np\n",
    "import matplotlib.pyplot as plt\n",
    "import seaborn as sns"
   ]
  },
  {
   "cell_type": "code",
   "execution_count": 2,
   "id": "cd6da04e",
   "metadata": {},
   "outputs": [],
   "source": [
    "sns.set()\n",
    "plt.rcParams[\"figure.figsize\"] = (16, 8)"
   ]
  },
  {
   "cell_type": "code",
   "execution_count": 3,
   "id": "69a8b221",
   "metadata": {},
   "outputs": [],
   "source": [
    "PATH = \"../data/raw/unfiltered_features.parquet\""
   ]
  },
  {
   "cell_type": "code",
   "execution_count": 4,
   "id": "95a4aeac",
   "metadata": {},
   "outputs": [],
   "source": [
    "df = pd.read_parquet(PATH, engine=\"pyarrow\")"
   ]
  },
  {
   "cell_type": "markdown",
   "id": "d7659c07",
   "metadata": {},
   "source": [
    "# Посмотрим цены"
   ]
  },
  {
   "cell_type": "code",
   "execution_count": 5,
   "id": "cfcf86ca",
   "metadata": {},
   "outputs": [],
   "source": [
    "prices = [\"basePrice\", \"basePromoPrice\", \"salePrice\"]"
   ]
  },
  {
   "cell_type": "code",
   "execution_count": 6,
   "id": "a220dc6e",
   "metadata": {},
   "outputs": [
    {
     "data": {
      "text/html": [
       "<div>\n",
       "<style scoped>\n",
       "    .dataframe tbody tr th:only-of-type {\n",
       "        vertical-align: middle;\n",
       "    }\n",
       "\n",
       "    .dataframe tbody tr th {\n",
       "        vertical-align: top;\n",
       "    }\n",
       "\n",
       "    .dataframe thead th {\n",
       "        text-align: right;\n",
       "    }\n",
       "</style>\n",
       "<table border=\"1\" class=\"dataframe\">\n",
       "  <thead>\n",
       "    <tr style=\"text-align: right;\">\n",
       "      <th></th>\n",
       "      <th>basePrice</th>\n",
       "      <th>basePromoPrice</th>\n",
       "      <th>salePrice</th>\n",
       "    </tr>\n",
       "  </thead>\n",
       "  <tbody>\n",
       "    <tr>\n",
       "      <th>30062056</th>\n",
       "      <td>69999</td>\n",
       "      <td>NaN</td>\n",
       "      <td>69999</td>\n",
       "    </tr>\n",
       "    <tr>\n",
       "      <th>30065211</th>\n",
       "      <td>104999</td>\n",
       "      <td>NaN</td>\n",
       "      <td>104999</td>\n",
       "    </tr>\n",
       "    <tr>\n",
       "      <th>30056687</th>\n",
       "      <td>59999</td>\n",
       "      <td>NaN</td>\n",
       "      <td>59999</td>\n",
       "    </tr>\n",
       "    <tr>\n",
       "      <th>30064594</th>\n",
       "      <td>139999</td>\n",
       "      <td>NaN</td>\n",
       "      <td>139999</td>\n",
       "    </tr>\n",
       "    <tr>\n",
       "      <th>30061606</th>\n",
       "      <td>129999</td>\n",
       "      <td>109999.0</td>\n",
       "      <td>109999</td>\n",
       "    </tr>\n",
       "  </tbody>\n",
       "</table>\n",
       "</div>"
      ],
      "text/plain": [
       "          basePrice  basePromoPrice  salePrice\n",
       "30062056      69999             NaN      69999\n",
       "30065211     104999             NaN     104999\n",
       "30056687      59999             NaN      59999\n",
       "30064594     139999             NaN     139999\n",
       "30061606     129999        109999.0     109999"
      ]
     },
     "execution_count": 6,
     "metadata": {},
     "output_type": "execute_result"
    }
   ],
   "source": [
    "df[prices].head()"
   ]
  },
  {
   "cell_type": "code",
   "execution_count": 7,
   "id": "7a01bba5",
   "metadata": {},
   "outputs": [
    {
     "data": {
      "text/html": [
       "<div>\n",
       "<style scoped>\n",
       "    .dataframe tbody tr th:only-of-type {\n",
       "        vertical-align: middle;\n",
       "    }\n",
       "\n",
       "    .dataframe tbody tr th {\n",
       "        vertical-align: top;\n",
       "    }\n",
       "\n",
       "    .dataframe thead th {\n",
       "        text-align: right;\n",
       "    }\n",
       "</style>\n",
       "<table border=\"1\" class=\"dataframe\">\n",
       "  <thead>\n",
       "    <tr style=\"text-align: right;\">\n",
       "      <th></th>\n",
       "      <th>basePrice</th>\n",
       "      <th>basePromoPrice</th>\n",
       "      <th>salePrice</th>\n",
       "    </tr>\n",
       "  </thead>\n",
       "  <tbody>\n",
       "    <tr>\n",
       "      <th>count</th>\n",
       "      <td>933.000000</td>\n",
       "      <td>284.000000</td>\n",
       "      <td>933.000000</td>\n",
       "    </tr>\n",
       "    <tr>\n",
       "      <th>mean</th>\n",
       "      <td>100040.727760</td>\n",
       "      <td>60874.056338</td>\n",
       "      <td>94574.072883</td>\n",
       "    </tr>\n",
       "    <tr>\n",
       "      <th>std</th>\n",
       "      <td>77385.125221</td>\n",
       "      <td>50154.053201</td>\n",
       "      <td>75593.497117</td>\n",
       "    </tr>\n",
       "    <tr>\n",
       "      <th>min</th>\n",
       "      <td>6225.000000</td>\n",
       "      <td>4360.000000</td>\n",
       "      <td>4360.000000</td>\n",
       "    </tr>\n",
       "    <tr>\n",
       "      <th>25%</th>\n",
       "      <td>44999.000000</td>\n",
       "      <td>25999.000000</td>\n",
       "      <td>39999.000000</td>\n",
       "    </tr>\n",
       "    <tr>\n",
       "      <th>50%</th>\n",
       "      <td>79990.000000</td>\n",
       "      <td>48999.000000</td>\n",
       "      <td>70799.000000</td>\n",
       "    </tr>\n",
       "    <tr>\n",
       "      <th>75%</th>\n",
       "      <td>135990.000000</td>\n",
       "      <td>75499.250000</td>\n",
       "      <td>135990.000000</td>\n",
       "    </tr>\n",
       "    <tr>\n",
       "      <th>max</th>\n",
       "      <td>549999.000000</td>\n",
       "      <td>325500.000000</td>\n",
       "      <td>549999.000000</td>\n",
       "    </tr>\n",
       "  </tbody>\n",
       "</table>\n",
       "</div>"
      ],
      "text/plain": [
       "           basePrice  basePromoPrice      salePrice\n",
       "count     933.000000      284.000000     933.000000\n",
       "mean   100040.727760    60874.056338   94574.072883\n",
       "std     77385.125221    50154.053201   75593.497117\n",
       "min      6225.000000     4360.000000    4360.000000\n",
       "25%     44999.000000    25999.000000   39999.000000\n",
       "50%     79990.000000    48999.000000   70799.000000\n",
       "75%    135990.000000    75499.250000  135990.000000\n",
       "max    549999.000000   325500.000000  549999.000000"
      ]
     },
     "execution_count": 7,
     "metadata": {},
     "output_type": "execute_result"
    }
   ],
   "source": [
    "df[prices].describe()"
   ]
  },
  {
   "cell_type": "code",
   "execution_count": 8,
   "id": "28976eaa",
   "metadata": {},
   "outputs": [
    {
     "data": {
      "text/html": [
       "<div>\n",
       "<style scoped>\n",
       "    .dataframe tbody tr th:only-of-type {\n",
       "        vertical-align: middle;\n",
       "    }\n",
       "\n",
       "    .dataframe tbody tr th {\n",
       "        vertical-align: top;\n",
       "    }\n",
       "\n",
       "    .dataframe thead th {\n",
       "        text-align: right;\n",
       "    }\n",
       "</style>\n",
       "<table border=\"1\" class=\"dataframe\">\n",
       "  <thead>\n",
       "    <tr style=\"text-align: right;\">\n",
       "      <th></th>\n",
       "      <th>basePrice</th>\n",
       "      <th>basePromoPrice</th>\n",
       "      <th>salePrice</th>\n",
       "    </tr>\n",
       "  </thead>\n",
       "  <tbody>\n",
       "    <tr>\n",
       "      <th>30061606</th>\n",
       "      <td>129999</td>\n",
       "      <td>109999.0</td>\n",
       "      <td>109999</td>\n",
       "    </tr>\n",
       "    <tr>\n",
       "      <th>30057684</th>\n",
       "      <td>25999</td>\n",
       "      <td>19999.0</td>\n",
       "      <td>19999</td>\n",
       "    </tr>\n",
       "    <tr>\n",
       "      <th>30063454</th>\n",
       "      <td>32999</td>\n",
       "      <td>29999.0</td>\n",
       "      <td>29999</td>\n",
       "    </tr>\n",
       "    <tr>\n",
       "      <th>30063451</th>\n",
       "      <td>24999</td>\n",
       "      <td>21999.0</td>\n",
       "      <td>21999</td>\n",
       "    </tr>\n",
       "    <tr>\n",
       "      <th>30062427</th>\n",
       "      <td>32999</td>\n",
       "      <td>29999.0</td>\n",
       "      <td>29999</td>\n",
       "    </tr>\n",
       "  </tbody>\n",
       "</table>\n",
       "</div>"
      ],
      "text/plain": [
       "          basePrice  basePromoPrice  salePrice\n",
       "30061606     129999        109999.0     109999\n",
       "30057684      25999         19999.0      19999\n",
       "30063454      32999         29999.0      29999\n",
       "30063451      24999         21999.0      21999\n",
       "30062427      32999         29999.0      29999"
      ]
     },
     "execution_count": 8,
     "metadata": {},
     "output_type": "execute_result"
    }
   ],
   "source": [
    "df.loc[~df.basePromoPrice.isna(), prices].head()"
   ]
  },
  {
   "cell_type": "markdown",
   "id": "b9cc8787",
   "metadata": {},
   "source": [
    "> Получается есть 2 цены: **базовая цена и цена продажи**, и скидка (разница между базовой и ценой продажи)  \n",
    "> В модели будем использоватье `basePrice`"
   ]
  },
  {
   "cell_type": "markdown",
   "id": "cf2c58e4",
   "metadata": {},
   "source": [
    "## Посмотрим распределение цены и ее логарифм"
   ]
  },
  {
   "cell_type": "code",
   "execution_count": 9,
   "id": "e9b83aaf",
   "metadata": {},
   "outputs": [
    {
     "data": {
      "image/png": "[encoded data removed]",
      "text/plain": [
       "<Figure size 1152x576 with 2 Axes>"
      ]
     },
     "metadata": {},
     "output_type": "display_data"
    }
   ],
   "source": [
    "fig, axes = plt.subplots(1, 2)\n",
    "fig.suptitle('Распределение цен в датасете', size=22)\n",
    "axes[0].set_title(\"Цены в рублях\", size=18)\n",
    "sns.histplot(df.basePrice, ax=axes[0]);\n",
    "axes[1].set_title(\"Цены в рублях (логарифм)\", size=18)\n",
    "sns.histplot(np.log1p(df.basePrice), ax=axes[1])\n",
    "plt.show()"
   ]
  },
  {
   "cell_type": "markdown",
   "id": "3049173a",
   "metadata": {},
   "source": [
    "> Распределение логарифмическое, с тяжелоым правым хвостом.  \n",
    "> Будем предсказывать логарифм цены, а потом его преобразовывать, возможно это поможет."
   ]
  },
  {
   "cell_type": "markdown",
   "id": "1d4e4a14",
   "metadata": {},
   "source": [
    "# Бренд"
   ]
  },
  {
   "cell_type": "code",
   "execution_count": 10,
   "id": "98e4a38b",
   "metadata": {},
   "outputs": [
    {
     "data": {
      "image/png": "[encoded data removed]",
      "text/plain": [
       "<Figure size 1152x576 with 1 Axes>"
      ]
     },
     "metadata": {},
     "output_type": "display_data"
    }
   ],
   "source": [
    "sns.countplot(x=df.brand_name)\n",
    "plt.xticks(rotation = 70)\n",
    "plt.show()"
   ]
  },
  {
   "cell_type": "markdown",
   "id": "9eb11f61",
   "metadata": {},
   "source": [
    "> Оставим только самые топовые бренды, остальные схлопнем в категорию \"другие\""
   ]
  },
  {
   "cell_type": "markdown",
   "id": "85f77539",
   "metadata": {},
   "source": [
    "# Процессор"
   ]
  },
  {
   "cell_type": "code",
   "execution_count": 11,
   "id": "7bbfbaf0",
   "metadata": {},
   "outputs": [
    {
     "data": {
      "text/plain": [
       "30051363    Intel Core i3 1005G1 1.2 ГГц\n",
       "30061050    Intel Core i5 1135G7 2.4 ГГц\n",
       "30057477     Intel Celeron N4020 1.1 ГГц\n",
       "30039126             AMD A4 9125 2.3 ГГц\n",
       "30042211         AMD Ryzen 5 2500U 2 ГГц\n",
       "Name: Процессор_Процессор, dtype: object"
      ]
     },
     "execution_count": 11,
     "metadata": {},
     "output_type": "execute_result"
    }
   ],
   "source": [
    "df[\"Процессор_Процессор\"].sample(5)"
   ]
  },
  {
   "cell_type": "markdown",
   "id": "cd4f0ba4",
   "metadata": {},
   "source": [
    "> В процессора у нас зашита частота, ее нужно вытащить   \n",
    "> Также нужно выделить название процессора \"Inter Core i3\", \"AMD Ryzen 5\", \"Apple M2\""
   ]
  },
  {
   "cell_type": "code",
   "execution_count": 12,
   "id": "d89793d7",
   "metadata": {},
   "outputs": [
    {
     "data": {
      "text/plain": [
       "30064594                         Apple M2\n",
       "30064275                         Apple M1\n",
       "30065173                     Apple M1 Pro\n",
       "30065174                     Apple M1 Pro\n",
       "30064278                         Apple M1\n",
       "                         ...             \n",
       "400029647            Apple M2 M2 3.49 ГГц\n",
       "400027899    Apple M1 Pro M1 Pro 3.22 ГГц\n",
       "400027919            Apple M2 M2 3.49 ГГц\n",
       "400027896    Apple M1 Pro M1 Pro 3.22 ГГц\n",
       "400029644    Apple M1 Pro M1 Pro 3.22 ГГц\n",
       "Name: Процессор_Процессор, Length: 173, dtype: object"
      ]
     },
     "execution_count": 12,
     "metadata": {},
     "output_type": "execute_result"
    }
   ],
   "source": [
    "df.loc[df.brand_name == \"Apple\", \"Процессор_Процессор\"]"
   ]
  },
  {
   "cell_type": "markdown",
   "id": "8c91faed",
   "metadata": {},
   "source": [
    "> Есть зависимость, для Apple могут быть только Apple процессоры"
   ]
  },
  {
   "cell_type": "code",
   "execution_count": 13,
   "id": "b5ae1ede",
   "metadata": {},
   "outputs": [],
   "source": [
    "proc = df[\"Процессор_Процессор\"]"
   ]
  },
  {
   "cell_type": "code",
   "execution_count": 14,
   "id": "d61f0be3",
   "metadata": {},
   "outputs": [],
   "source": [
    "def get_frequency(column):\n",
    "    values = column.split()\n",
    "    if (values and values[-1] == \"ГГц\"):\n",
    "        return float(values[-2])\n",
    "    else:\n",
    "        return np.NAN"
   ]
  },
  {
   "cell_type": "code",
   "execution_count": 15,
   "id": "0491aebe",
   "metadata": {},
   "outputs": [
    {
     "data": {
      "text/plain": [
       "30062056     1.60\n",
       "30065211     2.00\n",
       "30056687     1.60\n",
       "30064594      NaN\n",
       "30061606     2.70\n",
       "             ... \n",
       "400027919    3.49\n",
       "4183550      2.30\n",
       "400027896    3.22\n",
       "400029644    3.22\n",
       "4129209      2.40\n",
       "Name: Процессор_Процессор, Length: 933, dtype: float64"
      ]
     },
     "execution_count": 15,
     "metadata": {},
     "output_type": "execute_result"
    }
   ],
   "source": [
    "proc.apply(get_frequency)"
   ]
  },
  {
   "cell_type": "code",
   "execution_count": 16,
   "id": "40d0d94d",
   "metadata": {},
   "outputs": [
    {
     "data": {
      "text/plain": [
       "30062056    Intel\n",
       "30065211    Intel\n",
       "30056687    Intel\n",
       "30064594    Apple\n",
       "30061606    Intel\n",
       "Name: Процессор_Процессор, dtype: object"
      ]
     },
     "execution_count": 16,
     "metadata": {},
     "output_type": "execute_result"
    }
   ],
   "source": [
    "proc.apply(lambda x: x.split()[0]).head()\n",
    "    "
   ]
  },
  {
   "cell_type": "code",
   "execution_count": 17,
   "id": "3c51b4b4",
   "metadata": {},
   "outputs": [],
   "source": [
    "def get_proc_name(column):\n",
    "    values = column.split()\n",
    "    if not values:\n",
    "        return np.NAN\n",
    "    if (values[0] == \"Intel\" and values[1] == \"Core\"):\n",
    "        return \" \".join(values[0:3])\n",
    "    else:\n",
    "        return \" \".join(values[0:2])"
   ]
  },
  {
   "cell_type": "code",
   "execution_count": 18,
   "id": "112dc01c",
   "metadata": {},
   "outputs": [
    {
     "data": {
      "text/plain": [
       "Intel Core i5          0.206860\n",
       "AMD Ryzen              0.188639\n",
       "Intel Core i7          0.127546\n",
       "Apple M1               0.100750\n",
       "Intel Core i3          0.097535\n",
       "Intel Celeron          0.092176\n",
       "Apple M2               0.056806\n",
       "Intel Pentium          0.056806\n",
       "AMD Athlon             0.022508\n",
       "Intel Core i9          0.016077\n",
       "Intel Atom             0.006431\n",
       "AMD 3000               0.005359\n",
       "AMD A4                 0.005359\n",
       "AMD A6                 0.004287\n",
       "AMD E2                 0.003215\n",
       "Intel Intel            0.002144\n",
       "AMD A10                0.002144\n",
       "Core i5                0.001072\n",
       "Qualcomm Snapdragon    0.001072\n",
       "Qualcomm Kryo          0.001072\n",
       "AMD A12                0.001072\n",
       "Zhaoxin KX-6640MA      0.001072\n",
       "Name: Процессор_Процессор, dtype: float64"
      ]
     },
     "execution_count": 18,
     "metadata": {},
     "output_type": "execute_result"
    }
   ],
   "source": [
    "proc.apply(get_proc_name).value_counts(normalize=True)"
   ]
  },
  {
   "cell_type": "markdown",
   "id": "a6b937fe",
   "metadata": {},
   "source": [
    "> Если не проходит 5% барьер то оставим только название бренда"
   ]
  },
  {
   "cell_type": "code",
   "execution_count": 19,
   "id": "39d5390b",
   "metadata": {},
   "outputs": [],
   "source": [
    "count = proc.apply(get_proc_name).value_counts(normalize=True)\n",
    "popular_names = count[count > 0.05].index"
   ]
  },
  {
   "cell_type": "code",
   "execution_count": 20,
   "id": "4d3d7d5b",
   "metadata": {},
   "outputs": [
    {
     "data": {
      "text/plain": [
       "True"
      ]
     },
     "execution_count": 20,
     "metadata": {},
     "output_type": "execute_result"
    }
   ],
   "source": [
    "\"Intel Core i5\" in popular_names"
   ]
  },
  {
   "cell_type": "code",
   "execution_count": 21,
   "id": "91d1e48a",
   "metadata": {},
   "outputs": [
    {
     "data": {
      "text/plain": [
       "True"
      ]
     },
     "execution_count": 21,
     "metadata": {},
     "output_type": "execute_result"
    }
   ],
   "source": [
    "None is None"
   ]
  },
  {
   "cell_type": "code",
   "execution_count": 22,
   "id": "d278abef",
   "metadata": {},
   "outputs": [],
   "source": [
    "def get_proc_name(column, popular_names=None):\n",
    "    values = column.split()\n",
    "    if not values:\n",
    "        return np.NAN\n",
    "    if (values[0] == \"Intel\" and values[1] == \"Core\"):\n",
    "        result = \" \".join(values[0:3])\n",
    "    else:\n",
    "        result = \" \".join(values[0:2])\n",
    "    \n",
    "    if not popular_names is None:\n",
    "        if result not in popular_names:\n",
    "            result = values[0]\n",
    "    return result"
   ]
  },
  {
   "cell_type": "code",
   "execution_count": 23,
   "id": "6c61fc7c",
   "metadata": {},
   "outputs": [
    {
     "data": {
      "text/plain": [
       "Intel Core i5    193\n",
       "AMD Ryzen        176\n",
       "Intel Core i7    119\n",
       "Apple M1          94\n",
       "Intel Core i3     91\n",
       "Intel Celeron     86\n",
       "Apple M2          53\n",
       "Intel Pentium     53\n",
       "AMD               41\n",
       "Intel             23\n",
       "Qualcomm           2\n",
       "Core               1\n",
       "Zhaoxin            1\n",
       "Name: Процессор_Процессор, dtype: int64"
      ]
     },
     "execution_count": 23,
     "metadata": {},
     "output_type": "execute_result"
    }
   ],
   "source": [
    "proc.apply(get_proc_name, popular_names=popular_names).value_counts()"
   ]
  },
  {
   "cell_type": "markdown",
   "id": "f0c5336f",
   "metadata": {},
   "source": [
    "> Нужно заполнить не указанную частоту процессора  \n",
    "> Будем смотреть по модели "
   ]
  },
  {
   "cell_type": "code",
   "execution_count": 24,
   "id": "caf1b1b2",
   "metadata": {},
   "outputs": [],
   "source": [
    "proc_brand = proc.apply(get_proc_name, popular_names=popular_names)\n",
    "proc_freq = proc.apply(get_frequency)"
   ]
  },
  {
   "cell_type": "code",
   "execution_count": 25,
   "id": "9ce6662c",
   "metadata": {},
   "outputs": [],
   "source": [
    "df_brand_freq = pd.DataFrame.from_dict({\n",
    "    \"brand\" : proc_brand,\n",
    "    \"freq\" : proc_freq\n",
    "})"
   ]
  },
  {
   "cell_type": "code",
   "execution_count": 26,
   "id": "4ea29ece",
   "metadata": {},
   "outputs": [
    {
     "data": {
      "text/plain": [
       "30062056     1.60\n",
       "30065211     2.00\n",
       "30056687     1.60\n",
       "30064594     3.49\n",
       "30061606     2.70\n",
       "             ... \n",
       "400027919    3.49\n",
       "4183550      2.30\n",
       "400027896    3.22\n",
       "400029644    3.22\n",
       "4129209      2.40\n",
       "Name: freq, Length: 933, dtype: float64"
      ]
     },
     "execution_count": 26,
     "metadata": {},
     "output_type": "execute_result"
    }
   ],
   "source": [
    "df_brand_freq.groupby(\"brand\").freq.transform(lambda x: x.fillna(x.mean()))\n"
   ]
  },
  {
   "cell_type": "code",
   "execution_count": 27,
   "id": "561c8c19",
   "metadata": {},
   "outputs": [],
   "source": [
    "df_brand_freq[\"freq_fill\"] = df_brand_freq.groupby(\"brand\").freq.transform(lambda x: x.fillna(x.mean()))"
   ]
  },
  {
   "cell_type": "code",
   "execution_count": 28,
   "id": "e476906f",
   "metadata": {},
   "outputs": [
    {
     "data": {
      "text/html": [
       "<div>\n",
       "<style scoped>\n",
       "    .dataframe tbody tr th:only-of-type {\n",
       "        vertical-align: middle;\n",
       "    }\n",
       "\n",
       "    .dataframe tbody tr th {\n",
       "        vertical-align: top;\n",
       "    }\n",
       "\n",
       "    .dataframe thead th {\n",
       "        text-align: right;\n",
       "    }\n",
       "</style>\n",
       "<table border=\"1\" class=\"dataframe\">\n",
       "  <thead>\n",
       "    <tr style=\"text-align: right;\">\n",
       "      <th></th>\n",
       "      <th>brand</th>\n",
       "      <th>freq</th>\n",
       "      <th>freq_fill</th>\n",
       "    </tr>\n",
       "  </thead>\n",
       "  <tbody>\n",
       "    <tr>\n",
       "      <th>30062056</th>\n",
       "      <td>Intel Core i5</td>\n",
       "      <td>1.60</td>\n",
       "      <td>1.60</td>\n",
       "    </tr>\n",
       "    <tr>\n",
       "      <th>30065211</th>\n",
       "      <td>Intel Core i5</td>\n",
       "      <td>2.00</td>\n",
       "      <td>2.00</td>\n",
       "    </tr>\n",
       "    <tr>\n",
       "      <th>30056687</th>\n",
       "      <td>Intel Core i5</td>\n",
       "      <td>1.60</td>\n",
       "      <td>1.60</td>\n",
       "    </tr>\n",
       "    <tr>\n",
       "      <th>30064594</th>\n",
       "      <td>Apple M2</td>\n",
       "      <td>NaN</td>\n",
       "      <td>3.49</td>\n",
       "    </tr>\n",
       "    <tr>\n",
       "      <th>30061606</th>\n",
       "      <td>Intel Core i5</td>\n",
       "      <td>2.70</td>\n",
       "      <td>2.70</td>\n",
       "    </tr>\n",
       "    <tr>\n",
       "      <th>...</th>\n",
       "      <td>...</td>\n",
       "      <td>...</td>\n",
       "      <td>...</td>\n",
       "    </tr>\n",
       "    <tr>\n",
       "      <th>400027919</th>\n",
       "      <td>Apple M2</td>\n",
       "      <td>3.49</td>\n",
       "      <td>3.49</td>\n",
       "    </tr>\n",
       "    <tr>\n",
       "      <th>4183550</th>\n",
       "      <td>Intel Celeron</td>\n",
       "      <td>2.30</td>\n",
       "      <td>2.30</td>\n",
       "    </tr>\n",
       "    <tr>\n",
       "      <th>400027896</th>\n",
       "      <td>Apple M1</td>\n",
       "      <td>3.22</td>\n",
       "      <td>3.22</td>\n",
       "    </tr>\n",
       "    <tr>\n",
       "      <th>400029644</th>\n",
       "      <td>Apple M1</td>\n",
       "      <td>3.22</td>\n",
       "      <td>3.22</td>\n",
       "    </tr>\n",
       "    <tr>\n",
       "      <th>4129209</th>\n",
       "      <td>Intel Celeron</td>\n",
       "      <td>2.40</td>\n",
       "      <td>2.40</td>\n",
       "    </tr>\n",
       "  </tbody>\n",
       "</table>\n",
       "<p>933 rows × 3 columns</p>\n",
       "</div>"
      ],
      "text/plain": [
       "                   brand  freq  freq_fill\n",
       "30062056   Intel Core i5  1.60       1.60\n",
       "30065211   Intel Core i5  2.00       2.00\n",
       "30056687   Intel Core i5  1.60       1.60\n",
       "30064594        Apple M2   NaN       3.49\n",
       "30061606   Intel Core i5  2.70       2.70\n",
       "...                  ...   ...        ...\n",
       "400027919       Apple M2  3.49       3.49\n",
       "4183550    Intel Celeron  2.30       2.30\n",
       "400027896       Apple M1  3.22       3.22\n",
       "400029644       Apple M1  3.22       3.22\n",
       "4129209    Intel Celeron  2.40       2.40\n",
       "\n",
       "[933 rows x 3 columns]"
      ]
     },
     "execution_count": 28,
     "metadata": {},
     "output_type": "execute_result"
    }
   ],
   "source": [
    "df_brand_freq"
   ]
  },
  {
   "cell_type": "markdown",
   "id": "90cef3f6",
   "metadata": {},
   "source": [
    "# Количество ядер"
   ]
  },
  {
   "cell_type": "code",
   "execution_count": 29,
   "id": "26a28c68",
   "metadata": {},
   "outputs": [
    {
     "data": {
      "text/plain": [
       "30062352    2.0\n",
       "30060175    4.0\n",
       "30058342    8.0\n",
       "30050010    4.0\n",
       "30059486    4.0\n",
       "Name: Процессор_Количество ядер, dtype: float64"
      ]
     },
     "execution_count": 29,
     "metadata": {},
     "output_type": "execute_result"
    }
   ],
   "source": [
    "df[\"Процессор_Количество ядер\"].sample(5)"
   ]
  },
  {
   "cell_type": "code",
   "execution_count": 30,
   "id": "6e30f914",
   "metadata": {},
   "outputs": [
    {
     "data": {
      "image/png": "[encoded data removed]",
      "text/plain": [
       "<Figure size 1152x576 with 1 Axes>"
      ]
     },
     "metadata": {},
     "output_type": "display_data"
    }
   ],
   "source": [
    "df[\"Процессор_Количество ядер\"].hist();"
   ]
  },
  {
   "cell_type": "code",
   "execution_count": 31,
   "id": "37a85618",
   "metadata": {},
   "outputs": [
    {
     "name": "stdout",
     "output_type": "stream",
     "text": [
      "<class 'pandas.core.series.Series'>\n",
      "Int64Index: 933 entries, 30062056 to 4129209\n",
      "Series name: Процессор_Количество ядер\n",
      "Non-Null Count  Dtype  \n",
      "--------------  -----  \n",
      "930 non-null    float64\n",
      "dtypes: float64(1)\n",
      "memory usage: 14.6 KB\n"
     ]
    }
   ],
   "source": [
    "df[\"Процессор_Количество ядер\"].info()"
   ]
  },
  {
   "cell_type": "markdown",
   "id": "8961c177",
   "metadata": {},
   "source": [
    "> Заполним пропуски также, по модели процессора"
   ]
  },
  {
   "cell_type": "markdown",
   "id": "ee52900f",
   "metadata": {},
   "source": [
    "# Видеокарта_Производитель видеопроцессора"
   ]
  },
  {
   "cell_type": "code",
   "execution_count": 32,
   "id": "602835a3",
   "metadata": {},
   "outputs": [
    {
     "data": {
      "text/html": [
       "<div>\n",
       "<style scoped>\n",
       "    .dataframe tbody tr th:only-of-type {\n",
       "        vertical-align: middle;\n",
       "    }\n",
       "\n",
       "    .dataframe tbody tr th {\n",
       "        vertical-align: top;\n",
       "    }\n",
       "\n",
       "    .dataframe thead th {\n",
       "        text-align: right;\n",
       "    }\n",
       "</style>\n",
       "<table border=\"1\" class=\"dataframe\">\n",
       "  <thead>\n",
       "    <tr style=\"text-align: right;\">\n",
       "      <th></th>\n",
       "      <th>Видеокарта_Производитель видеопроцессора</th>\n",
       "      <th>Видеокарта_Графический контроллер</th>\n",
       "    </tr>\n",
       "  </thead>\n",
       "  <tbody>\n",
       "    <tr>\n",
       "      <th>30065633</th>\n",
       "      <td>Intel</td>\n",
       "      <td>Intel UHD Graphics</td>\n",
       "    </tr>\n",
       "    <tr>\n",
       "      <th>30063861</th>\n",
       "      <td>Intel</td>\n",
       "      <td>Intel Iris Graphics</td>\n",
       "    </tr>\n",
       "    <tr>\n",
       "      <th>30062490</th>\n",
       "      <td>NVIDIA</td>\n",
       "      <td>GeForce MX450 2ГБ</td>\n",
       "    </tr>\n",
       "    <tr>\n",
       "      <th>30062301</th>\n",
       "      <td>AMD</td>\n",
       "      <td>Radeon Graphics</td>\n",
       "    </tr>\n",
       "    <tr>\n",
       "      <th>30047479</th>\n",
       "      <td>AMD</td>\n",
       "      <td>Radeon Pro 5500M 4ГБ</td>\n",
       "    </tr>\n",
       "    <tr>\n",
       "      <th>30062364</th>\n",
       "      <td>NVIDIA</td>\n",
       "      <td>GeForce MX350 2ГБ</td>\n",
       "    </tr>\n",
       "    <tr>\n",
       "      <th>30054301</th>\n",
       "      <td>None</td>\n",
       "      <td>None</td>\n",
       "    </tr>\n",
       "    <tr>\n",
       "      <th>30056456</th>\n",
       "      <td>Qualcomm</td>\n",
       "      <td>Adreno 685</td>\n",
       "    </tr>\n",
       "    <tr>\n",
       "      <th>30061286</th>\n",
       "      <td>AMD</td>\n",
       "      <td>Radeon Vega</td>\n",
       "    </tr>\n",
       "    <tr>\n",
       "      <th>400005050</th>\n",
       "      <td>NVIDIA</td>\n",
       "      <td>GeForce RTX 3050 Ti для ноутбуков 4GB</td>\n",
       "    </tr>\n",
       "  </tbody>\n",
       "</table>\n",
       "</div>"
      ],
      "text/plain": [
       "          Видеокарта_Производитель видеопроцессора  \\\n",
       "30065633                                     Intel   \n",
       "30063861                                     Intel   \n",
       "30062490                                    NVIDIA   \n",
       "30062301                                       AMD   \n",
       "30047479                                       AMD   \n",
       "30062364                                    NVIDIA   \n",
       "30054301                                      None   \n",
       "30056456                                  Qualcomm   \n",
       "30061286                                       AMD   \n",
       "400005050                                   NVIDIA   \n",
       "\n",
       "               Видеокарта_Графический контроллер  \n",
       "30065633                      Intel UHD Graphics  \n",
       "30063861                     Intel Iris Graphics  \n",
       "30062490                       GeForce MX450 2ГБ  \n",
       "30062301                         Radeon Graphics  \n",
       "30047479                    Radeon Pro 5500M 4ГБ  \n",
       "30062364                       GeForce MX350 2ГБ  \n",
       "30054301                                    None  \n",
       "30056456                              Adreno 685  \n",
       "30061286                             Radeon Vega  \n",
       "400005050  GeForce RTX 3050 Ti для ноутбуков 4GB  "
      ]
     },
     "execution_count": 32,
     "metadata": {},
     "output_type": "execute_result"
    }
   ],
   "source": [
    "df[[\"Видеокарта_Производитель видеопроцессора\", \"Видеокарта_Графический контроллер\"]].sample(10)"
   ]
  },
  {
   "cell_type": "code",
   "execution_count": 33,
   "id": "b84f64c6",
   "metadata": {},
   "outputs": [
    {
     "data": {
      "text/plain": [
       "Intel       383\n",
       "NVIDIA      218\n",
       "AMD         181\n",
       "Apple        37\n",
       "Qualcomm      2\n",
       "UMA           1\n",
       "Zhaoxin       1\n",
       "Name: Видеокарта_Производитель видеопроцессора, dtype: int64"
      ]
     },
     "execution_count": 33,
     "metadata": {},
     "output_type": "execute_result"
    }
   ],
   "source": [
    "df[\"Видеокарта_Производитель видеопроцессора\"].value_counts()"
   ]
  },
  {
   "cell_type": "code",
   "execution_count": 34,
   "id": "e99bc3e2",
   "metadata": {},
   "outputs": [
    {
     "data": {
      "text/plain": [
       "Видеокарта_Производитель видеопроцессора    110\n",
       "Видеокарта_Графический контроллер            87\n",
       "dtype: int64"
      ]
     },
     "execution_count": 34,
     "metadata": {},
     "output_type": "execute_result"
    }
   ],
   "source": [
    "df[[\"Видеокарта_Производитель видеопроцессора\", \"Видеокарта_Графический контроллер\"]].isna().sum()"
   ]
  },
  {
   "cell_type": "code",
   "execution_count": 35,
   "id": "3daa69c6",
   "metadata": {},
   "outputs": [
    {
     "data": {
      "text/plain": [
       "Intel UHD Graphics                    101\n",
       "Intel Iris Xe Graphics                101\n",
       "Radeon Graphics                        82\n",
       "интегрированная                        62\n",
       "GeForce RTX 3050 для ноутбуков 4GB     34\n",
       "                                     ... \n",
       "GeForce RTX 2070 8GB Max-Q Design       1\n",
       "Radeon R8 M445DX 2ГБ                    1\n",
       "Radeon R8 M435DX                        1\n",
       "GeForce MX350                           1\n",
       "C-960 Graphics                          1\n",
       "Name: Видеокарта_Графический контроллер, Length: 97, dtype: int64"
      ]
     },
     "execution_count": 35,
     "metadata": {},
     "output_type": "execute_result"
    }
   ],
   "source": [
    "df[\"Видеокарта_Графический контроллер\"].value_counts()"
   ]
  },
  {
   "cell_type": "code",
   "execution_count": 36,
   "id": "88bc3e2f",
   "metadata": {},
   "outputs": [],
   "source": [
    "df.loc[df[\"Видеокарта_Графический контроллер\"].isna(), \"Видеокарта_Графический контроллер\"] = \"интегрированная\"\n",
    "df.loc[df[\"Видеокарта_Графический контроллер\"].str.contains(\"Intel\"), \"Видеокарта_Графический контроллер\"] = \"интегрированная\""
   ]
  },
  {
   "cell_type": "code",
   "execution_count": 37,
   "id": "083d129c",
   "metadata": {},
   "outputs": [
    {
     "data": {
      "text/plain": [
       "интегрированная                          502\n",
       "Radeon Graphics                           82\n",
       "GeForce RTX 3050 для ноутбуков 4GB        34\n",
       "GeForce RTX 3050 Ti для ноутбуков 4GB     29\n",
       "GeForce RTX 3060 для ноутбуков 6GB        23\n",
       "                                        ... \n",
       "Radeon 535 2ГБ                             1\n",
       "Radeon RX 560X 2ГБ                         1\n",
       "GeForce RTX 3050 4GB + RTX 3080 16GB       1\n",
       "Adreno 618                                 1\n",
       "C-960 Graphics                             1\n",
       "Name: Видеокарта_Графический контроллер, Length: 76, dtype: int64"
      ]
     },
     "execution_count": 37,
     "metadata": {},
     "output_type": "execute_result"
    }
   ],
   "source": [
    "df[\"Видеокарта_Графический контроллер\"].value_counts()"
   ]
  },
  {
   "cell_type": "code",
   "execution_count": 38,
   "id": "668ba766",
   "metadata": {},
   "outputs": [],
   "source": [
    "def get_video_memory(column):\n",
    "    if not column or column == \"интегрированная\":\n",
    "        return 0\n",
    "    values = column.split()\n",
    "    if (values and values[-1].endswith(\"GB\")):\n",
    "        return int(values[-1].replace(\"GB\", \"\"))\n",
    "    else:\n",
    "        return np.NAN"
   ]
  },
  {
   "cell_type": "code",
   "execution_count": 39,
   "id": "b7659428",
   "metadata": {},
   "outputs": [
    {
     "data": {
      "text/plain": [
       "0.0     502\n",
       "4.0      87\n",
       "8.0      28\n",
       "6.0      27\n",
       "16.0      5\n",
       "2.0       5\n",
       "3.0       4\n",
       "10.0      2\n",
       "12.0      1\n",
       "Name: Видеокарта_Графический контроллер, dtype: int64"
      ]
     },
     "execution_count": 39,
     "metadata": {},
     "output_type": "execute_result"
    }
   ],
   "source": [
    "df[\"Видеокарта_Графический контроллер\"].apply(get_video_memory).value_counts()"
   ]
  },
  {
   "cell_type": "code",
   "execution_count": 40,
   "id": "58cc2ab6",
   "metadata": {},
   "outputs": [],
   "source": [
    "df.loc[df[\"Видеокарта_Графический контроллер\"].str.contains(\"GeForce RTX\"), \"Видеокарта_Графический контроллер\"] = \"GeForce RTX\"\n",
    "df.loc[df[\"Видеокарта_Графический контроллер\"].str.contains(\"GeForce GTX\"), \"Видеокарта_Графический контроллер\"] = \"GeForce GTX\"\n",
    "df.loc[df[\"Видеокарта_Графический контроллер\"].str.contains(\"Radeon\"), \"Видеокарта_Графический контроллер\"] = \"Radeon\"\n",
    "\n",
    "df.loc[df[\"Видеокарта_Графический контроллер\"].str.contains(\"UHD Graphics\"), \"Видеокарта_Графический контроллер\"] = \"интегрированная\"\n",
    "\n",
    "df.loc[df[\"Видеокарта_Графический контроллер\"].str.contains(\"GeForce MX\"), \"Видеокарта_Графический контроллер\"] = \"GeForce MX\"\n"
   ]
  },
  {
   "cell_type": "code",
   "execution_count": 41,
   "id": "84cb48d8",
   "metadata": {},
   "outputs": [
    {
     "data": {
      "text/plain": [
       "интегрированная         532\n",
       "Radeon                  182\n",
       "GeForce RTX             121\n",
       "GeForce GTX              51\n",
       "GeForce MX               42\n",
       "NVIDIA RTX A3000 6GB      1\n",
       "Adreno 685                1\n",
       "Adreno 618                1\n",
       "Quadro T1000 4ГБ          1\n",
       "C-960 Graphics            1\n",
       "Name: Видеокарта_Графический контроллер, dtype: int64"
      ]
     },
     "execution_count": 41,
     "metadata": {},
     "output_type": "execute_result"
    }
   ],
   "source": [
    "df[\"Видеокарта_Графический контроллер\"].value_counts()[:20]"
   ]
  },
  {
   "cell_type": "markdown",
   "id": "8404d289",
   "metadata": {},
   "source": [
    "> Оставим эти категории, редкие объединим в другое  \n",
    "> Определим объем памяти по средней в группе по видеокарте"
   ]
  },
  {
   "cell_type": "markdown",
   "id": "4a18e461",
   "metadata": {},
   "source": [
    "# Диагональ экрана"
   ]
  },
  {
   "cell_type": "code",
   "execution_count": 42,
   "id": "24885e3d",
   "metadata": {},
   "outputs": [
    {
     "data": {
      "text/plain": [
       "30062056     15.6\"(39.6 см)\n",
       "30065211     17.3\"(43.9 см)\n",
       "30056687     15.6\"(39.6 см)\n",
       "30064594               None\n",
       "30061606     17.3\"(43.9 см)\n",
       "                  ...      \n",
       "400027919              None\n",
       "4183550      15.6\"(39.6 см)\n",
       "400027896              None\n",
       "400029644              None\n",
       "4129209        14\"(35.5 см)\n",
       "Name: Экран_Диагональ экрана, Length: 933, dtype: object"
      ]
     },
     "execution_count": 42,
     "metadata": {},
     "output_type": "execute_result"
    }
   ],
   "source": [
    "df[\"Экран_Диагональ экрана\"]"
   ]
  },
  {
   "cell_type": "code",
   "execution_count": 43,
   "id": "105dce78",
   "metadata": {},
   "outputs": [],
   "source": [
    "a = df[\"Экран_Диагональ экрана\"].apply(lambda x: np.NAN if not x else int(float(x.split('\"')[0])))"
   ]
  },
  {
   "cell_type": "code",
   "execution_count": 44,
   "id": "49005ddc",
   "metadata": {},
   "outputs": [
    {
     "data": {
      "text/plain": [
       "30062056     15.0\n",
       "30065211     17.0\n",
       "30056687     15.0\n",
       "30064594     15.0\n",
       "30061606     17.0\n",
       "             ... \n",
       "400027919    15.0\n",
       "4183550      15.0\n",
       "400027896    15.0\n",
       "400029644    15.0\n",
       "4129209      14.0\n",
       "Name: Экран_Диагональ экрана, Length: 933, dtype: float64"
      ]
     },
     "execution_count": 44,
     "metadata": {},
     "output_type": "execute_result"
    }
   ],
   "source": [
    "a.fillna(a.mode()[0])"
   ]
  },
  {
   "cell_type": "markdown",
   "id": "29b1e989",
   "metadata": {},
   "source": [
    "# Объем SSD"
   ]
  },
  {
   "cell_type": "code",
   "execution_count": 45,
   "id": "2e52e32c",
   "metadata": {},
   "outputs": [
    {
     "data": {
      "text/plain": [
       "30062056     512 ГБ\n",
       "30065211     512 ГБ\n",
       "30056687     512 ГБ\n",
       "30064594     256 ГБ\n",
       "30061606     512 ГБ\n",
       "              ...  \n",
       "400027919    256 ГБ\n",
       "4183550      240 ГБ\n",
       "400027896    512 ГБ\n",
       "400029644    512 ГБ\n",
       "4129209      120 ГБ\n",
       "Name: Жесткий диск_Объем SSD, Length: 933, dtype: object"
      ]
     },
     "execution_count": 45,
     "metadata": {},
     "output_type": "execute_result"
    }
   ],
   "source": [
    "df[\"Жесткий диск_Объем SSD\"]"
   ]
  },
  {
   "cell_type": "code",
   "execution_count": 46,
   "id": "3ac53f2c",
   "metadata": {},
   "outputs": [],
   "source": [
    "def convert_volume_to_number(val):\n",
    "    if not val:\n",
    "        return 0\n",
    "    num, item = val.split()\n",
    "    num = int(num)\n",
    "    if item.lower() == \"тб\":\n",
    "        return 1024 * num\n",
    "    else:\n",
    "        return num"
   ]
  },
  {
   "cell_type": "code",
   "execution_count": 47,
   "id": "d35a8d4c",
   "metadata": {},
   "outputs": [
    {
     "data": {
      "text/plain": [
       "512     391\n",
       "256     245\n",
       "0       101\n",
       "1024     92\n",
       "128      67\n",
       "2048     15\n",
       "8192      9\n",
       "4096      5\n",
       "64        2\n",
       "240       2\n",
       "32        2\n",
       "500       1\n",
       "120       1\n",
       "Name: Жесткий диск_Объем SSD, dtype: int64"
      ]
     },
     "execution_count": 47,
     "metadata": {},
     "output_type": "execute_result"
    }
   ],
   "source": [
    "df[\"Жесткий диск_Объем SSD\"].apply(convert_volume_to_number).value_counts()"
   ]
  },
  {
   "cell_type": "markdown",
   "id": "793da5d6",
   "metadata": {},
   "source": [
    "# Оперативная память"
   ]
  },
  {
   "cell_type": "code",
   "execution_count": 48,
   "id": "954cb25e",
   "metadata": {},
   "outputs": [
    {
     "data": {
      "text/plain": [
       "30062056     16\n",
       "30065211     16\n",
       "30056687      8\n",
       "30064594      8\n",
       "30061606     16\n",
       "             ..\n",
       "400027919     8\n",
       "4183550       8\n",
       "400027896    16\n",
       "400029644    16\n",
       "4129209       6\n",
       "Name: Оперативная память_Оперативная память (RAM), Length: 933, dtype: int64"
      ]
     },
     "execution_count": 48,
     "metadata": {},
     "output_type": "execute_result"
    }
   ],
   "source": [
    "df[\"Оперативная память_Оперативная память (RAM)\"]"
   ]
  },
  {
   "cell_type": "markdown",
   "id": "f8f0eaa9",
   "metadata": {},
   "source": [
    "# Интерфейсы_Выход HDMI"
   ]
  },
  {
   "cell_type": "code",
   "execution_count": 49,
   "id": "43f3d9ef",
   "metadata": {},
   "outputs": [
    {
     "data": {
      "text/plain": [
       "30062056     1.0\n",
       "30065211     1.0\n",
       "30056687     1.0\n",
       "30064594     NaN\n",
       "30061606     1.0\n",
       "            ... \n",
       "400027919    NaN\n",
       "4183550      1.0\n",
       "400027896    NaN\n",
       "400029644    NaN\n",
       "4129209      1.0\n",
       "Name: Интерфейсы_Выход HDMI, Length: 933, dtype: float64"
      ]
     },
     "execution_count": 49,
     "metadata": {},
     "output_type": "execute_result"
    }
   ],
   "source": [
    "df[\"Интерфейсы_Выход HDMI\"]"
   ]
  },
  {
   "cell_type": "code",
   "execution_count": 50,
   "id": "cb624622",
   "metadata": {},
   "outputs": [
    {
     "data": {
      "text/html": [
       "<div>\n",
       "<style scoped>\n",
       "    .dataframe tbody tr th:only-of-type {\n",
       "        vertical-align: middle;\n",
       "    }\n",
       "\n",
       "    .dataframe tbody tr th {\n",
       "        vertical-align: top;\n",
       "    }\n",
       "\n",
       "    .dataframe thead th {\n",
       "        text-align: right;\n",
       "    }\n",
       "</style>\n",
       "<table border=\"1\" class=\"dataframe\">\n",
       "  <thead>\n",
       "    <tr style=\"text-align: right;\">\n",
       "      <th></th>\n",
       "      <th>brand_name</th>\n",
       "      <th>url</th>\n",
       "      <th>Заводские данные_Гарантия</th>\n",
       "      <th>Заводские данные_Страна</th>\n",
       "      <th>Серия модели_Серия</th>\n",
       "      <th>Операционная система_Операционная система</th>\n",
       "      <th>Операционная система_ОС Windows</th>\n",
       "      <th>Процессор_Процессор</th>\n",
       "      <th>Процессор_Количество ядер</th>\n",
       "      <th>Процессор_Кэш-память</th>\n",
       "      <th>...</th>\n",
       "      <th>Жесткий диск_Объем гибридного SSHD</th>\n",
       "      <th>Передача данных_Модуль 3G</th>\n",
       "      <th>Передача данных_Поддержка 4G LTE</th>\n",
       "      <th>Передача данных_Поддержка 5G</th>\n",
       "      <th>Интерфейсы_Разъем для микрофона 3.5 мм</th>\n",
       "      <th>Интерфейсы_Выход D-Sub видео</th>\n",
       "      <th>Процессор_Платформа Intel Evo</th>\n",
       "      <th>basePrice</th>\n",
       "      <th>basePromoPrice</th>\n",
       "      <th>salePrice</th>\n",
       "    </tr>\n",
       "  </thead>\n",
       "  <tbody>\n",
       "    <tr>\n",
       "      <th>30064594</th>\n",
       "      <td>Apple</td>\n",
       "      <td>https://www.mvideo.ru/products/noutbuk-apple-m...</td>\n",
       "      <td>1 год</td>\n",
       "      <td>Китай</td>\n",
       "      <td>MacBook Pro</td>\n",
       "      <td>macOS</td>\n",
       "      <td>None</td>\n",
       "      <td>Apple M2</td>\n",
       "      <td>8.0</td>\n",
       "      <td>NaN</td>\n",
       "      <td>...</td>\n",
       "      <td>NaN</td>\n",
       "      <td>None</td>\n",
       "      <td>None</td>\n",
       "      <td>None</td>\n",
       "      <td>NaN</td>\n",
       "      <td>NaN</td>\n",
       "      <td>None</td>\n",
       "      <td>139999</td>\n",
       "      <td>NaN</td>\n",
       "      <td>139999</td>\n",
       "    </tr>\n",
       "    <tr>\n",
       "      <th>30057684</th>\n",
       "      <td>Irbis</td>\n",
       "      <td>https://www.mvideo.ru/products/noutbuk-irbis-n...</td>\n",
       "      <td>1 год</td>\n",
       "      <td>Китай</td>\n",
       "      <td>None</td>\n",
       "      <td>Windows 10</td>\n",
       "      <td>установлена</td>\n",
       "      <td>Intel Pentium Intel Pentium J3710 1.6 ГГц</td>\n",
       "      <td>4.0</td>\n",
       "      <td>2.0</td>\n",
       "      <td>...</td>\n",
       "      <td>NaN</td>\n",
       "      <td>None</td>\n",
       "      <td>None</td>\n",
       "      <td>None</td>\n",
       "      <td>NaN</td>\n",
       "      <td>NaN</td>\n",
       "      <td>None</td>\n",
       "      <td>25999</td>\n",
       "      <td>19999.0</td>\n",
       "      <td>19999</td>\n",
       "    </tr>\n",
       "    <tr>\n",
       "      <th>30062364</th>\n",
       "      <td>Acer</td>\n",
       "      <td>https://www.mvideo.ru/products/noutbuk-acer-as...</td>\n",
       "      <td>1 год</td>\n",
       "      <td>Китай</td>\n",
       "      <td>None</td>\n",
       "      <td>Windows 11 Домашняя</td>\n",
       "      <td>установлена</td>\n",
       "      <td>Intel Core i5 1135G7 2.4 ГГц</td>\n",
       "      <td>2.0</td>\n",
       "      <td>6.0</td>\n",
       "      <td>...</td>\n",
       "      <td>NaN</td>\n",
       "      <td>None</td>\n",
       "      <td>None</td>\n",
       "      <td>None</td>\n",
       "      <td>NaN</td>\n",
       "      <td>NaN</td>\n",
       "      <td>None</td>\n",
       "      <td>69999</td>\n",
       "      <td>NaN</td>\n",
       "      <td>69999</td>\n",
       "    </tr>\n",
       "    <tr>\n",
       "      <th>30063454</th>\n",
       "      <td>Haier</td>\n",
       "      <td>https://www.mvideo.ru/products/noutbuk-haier-p...</td>\n",
       "      <td>1 год</td>\n",
       "      <td>Китай</td>\n",
       "      <td>None</td>\n",
       "      <td>DOS</td>\n",
       "      <td>не установлена</td>\n",
       "      <td>Intel Pentium N5030 1.1 ГГц</td>\n",
       "      <td>4.0</td>\n",
       "      <td>4.0</td>\n",
       "      <td>...</td>\n",
       "      <td>NaN</td>\n",
       "      <td>None</td>\n",
       "      <td>None</td>\n",
       "      <td>None</td>\n",
       "      <td>NaN</td>\n",
       "      <td>NaN</td>\n",
       "      <td>None</td>\n",
       "      <td>32999</td>\n",
       "      <td>29999.0</td>\n",
       "      <td>29999</td>\n",
       "    </tr>\n",
       "    <tr>\n",
       "      <th>30063451</th>\n",
       "      <td>Haier</td>\n",
       "      <td>https://www.mvideo.ru/products/noutbuk-haier-u...</td>\n",
       "      <td>1 год</td>\n",
       "      <td>Китай</td>\n",
       "      <td>URBAN</td>\n",
       "      <td>Windows 11 Домашняя</td>\n",
       "      <td>установлена</td>\n",
       "      <td>Intel Celeron N4020 1.1 ГГц</td>\n",
       "      <td>2.0</td>\n",
       "      <td>4.0</td>\n",
       "      <td>...</td>\n",
       "      <td>NaN</td>\n",
       "      <td>None</td>\n",
       "      <td>None</td>\n",
       "      <td>None</td>\n",
       "      <td>NaN</td>\n",
       "      <td>NaN</td>\n",
       "      <td>None</td>\n",
       "      <td>24999</td>\n",
       "      <td>21999.0</td>\n",
       "      <td>21999</td>\n",
       "    </tr>\n",
       "  </tbody>\n",
       "</table>\n",
       "<p>5 rows × 104 columns</p>\n",
       "</div>"
      ],
      "text/plain": [
       "         brand_name                                                url  \\\n",
       "30064594      Apple  https://www.mvideo.ru/products/noutbuk-apple-m...   \n",
       "30057684      Irbis  https://www.mvideo.ru/products/noutbuk-irbis-n...   \n",
       "30062364       Acer  https://www.mvideo.ru/products/noutbuk-acer-as...   \n",
       "30063454      Haier  https://www.mvideo.ru/products/noutbuk-haier-p...   \n",
       "30063451      Haier  https://www.mvideo.ru/products/noutbuk-haier-u...   \n",
       "\n",
       "         Заводские данные_Гарантия Заводские данные_Страна Серия модели_Серия  \\\n",
       "30064594                     1 год                   Китай        MacBook Pro   \n",
       "30057684                     1 год                   Китай               None   \n",
       "30062364                     1 год                   Китай               None   \n",
       "30063454                     1 год                   Китай               None   \n",
       "30063451                     1 год                   Китай              URBAN   \n",
       "\n",
       "         Операционная система_Операционная система  \\\n",
       "30064594                                     macOS   \n",
       "30057684                                Windows 10   \n",
       "30062364                       Windows 11 Домашняя   \n",
       "30063454                                       DOS   \n",
       "30063451                       Windows 11 Домашняя   \n",
       "\n",
       "         Операционная система_ОС Windows  \\\n",
       "30064594                            None   \n",
       "30057684                     установлена   \n",
       "30062364                     установлена   \n",
       "30063454                  не установлена   \n",
       "30063451                     установлена   \n",
       "\n",
       "                                Процессор_Процессор  \\\n",
       "30064594                                   Apple M2   \n",
       "30057684  Intel Pentium Intel Pentium J3710 1.6 ГГц   \n",
       "30062364               Intel Core i5 1135G7 2.4 ГГц   \n",
       "30063454                Intel Pentium N5030 1.1 ГГц   \n",
       "30063451                Intel Celeron N4020 1.1 ГГц   \n",
       "\n",
       "          Процессор_Количество ядер  Процессор_Кэш-память  ...  \\\n",
       "30064594                        8.0                   NaN  ...   \n",
       "30057684                        4.0                   2.0  ...   \n",
       "30062364                        2.0                   6.0  ...   \n",
       "30063454                        4.0                   4.0  ...   \n",
       "30063451                        2.0                   4.0  ...   \n",
       "\n",
       "         Жесткий диск_Объем гибридного SSHD Передача данных_Модуль 3G  \\\n",
       "30064594                                NaN                      None   \n",
       "30057684                                NaN                      None   \n",
       "30062364                                NaN                      None   \n",
       "30063454                                NaN                      None   \n",
       "30063451                                NaN                      None   \n",
       "\n",
       "         Передача данных_Поддержка 4G LTE Передача данных_Поддержка 5G  \\\n",
       "30064594                             None                         None   \n",
       "30057684                             None                         None   \n",
       "30062364                             None                         None   \n",
       "30063454                             None                         None   \n",
       "30063451                             None                         None   \n",
       "\n",
       "         Интерфейсы_Разъем для микрофона 3.5 мм  Интерфейсы_Выход D-Sub видео  \\\n",
       "30064594                                    NaN                           NaN   \n",
       "30057684                                    NaN                           NaN   \n",
       "30062364                                    NaN                           NaN   \n",
       "30063454                                    NaN                           NaN   \n",
       "30063451                                    NaN                           NaN   \n",
       "\n",
       "         Процессор_Платформа Intel Evo basePrice  basePromoPrice  salePrice  \n",
       "30064594                          None    139999             NaN     139999  \n",
       "30057684                          None     25999         19999.0      19999  \n",
       "30062364                          None     69999             NaN      69999  \n",
       "30063454                          None     32999         29999.0      29999  \n",
       "30063451                          None     24999         21999.0      21999  \n",
       "\n",
       "[5 rows x 104 columns]"
      ]
     },
     "execution_count": 50,
     "metadata": {},
     "output_type": "execute_result"
    }
   ],
   "source": [
    "df[df[\"Интерфейсы_Выход HDMI\"].isna()].head()"
   ]
  },
  {
   "cell_type": "markdown",
   "id": "1cd251a5",
   "metadata": {},
   "source": [
    "> Добавим фичу есть ли выход hdmi"
   ]
  },
  {
   "cell_type": "markdown",
   "id": "0a9345e3",
   "metadata": {},
   "source": [
    "# Материал корпуса"
   ]
  },
  {
   "cell_type": "code",
   "execution_count": 51,
   "id": "5e8d16d0",
   "metadata": {},
   "outputs": [
    {
     "data": {
      "text/plain": [
       "пластик                       411\n",
       "алюминий                      202\n",
       "алюминиевый сплав              86\n",
       "металл                         66\n",
       "алюминий/ пластик              53\n",
       "пластик/ металл                47\n",
       "металл/ пластик                16\n",
       "пластик/ алюминий              15\n",
       "ABS-пластик                    10\n",
       "магниевый сплав                 8\n",
       "алюминиевый сплав/ пластик      7\n",
       "углеродное волокно              3\n",
       "магний/ алюминий                2\n",
       "магний                          1\n",
       "металл/ кожа                    1\n",
       "алюминий/ поликарбонат          1\n",
       "анодированный алюминий          1\n",
       "Name: Корпус_Материал корпуса, dtype: int64"
      ]
     },
     "execution_count": 51,
     "metadata": {},
     "output_type": "execute_result"
    }
   ],
   "source": [
    "df[\"Корпус_Материал корпуса\"].value_counts()"
   ]
  },
  {
   "cell_type": "code",
   "execution_count": 52,
   "id": "dfd3cb93",
   "metadata": {},
   "outputs": [],
   "source": [
    "df.loc[~df[\"Корпус_Материал корпуса\"].isna() & df[\"Корпус_Материал корпуса\"].str.contains(\"алюмин|металл|сплав|магний\"), \"Корпус_Материал корпуса\"] = \"металл\"\n",
    "df.loc[~df[\"Корпус_Материал корпуса\"].isna() & df[\"Корпус_Материал корпуса\"].str.contains(\"пластик|углерод|поликарб\"), \"Корпус_Материал корпуса\"] = \"пластик\""
   ]
  },
  {
   "cell_type": "code",
   "execution_count": 53,
   "id": "063fd7cb",
   "metadata": {},
   "outputs": [
    {
     "data": {
      "text/plain": [
       "металл     506\n",
       "пластик    424\n",
       "Name: Корпус_Материал корпуса, dtype: int64"
      ]
     },
     "execution_count": 53,
     "metadata": {},
     "output_type": "execute_result"
    }
   ],
   "source": [
    "df[\"Корпус_Материал корпуса\"].value_counts()"
   ]
  },
  {
   "cell_type": "code",
   "execution_count": 54,
   "id": "a5b7039b",
   "metadata": {},
   "outputs": [
    {
     "name": "stdout",
     "output_type": "stream",
     "text": [
      "<class 'pandas.core.series.Series'>\n",
      "Int64Index: 933 entries, 30062056 to 4129209\n",
      "Series name: Корпус_Материал корпуса\n",
      "Non-Null Count  Dtype \n",
      "--------------  ----- \n",
      "930 non-null    object\n",
      "dtypes: object(1)\n",
      "memory usage: 14.6+ KB\n"
     ]
    }
   ],
   "source": [
    "df[\"Корпус_Материал корпуса\"].info()"
   ]
  },
  {
   "cell_type": "code",
   "execution_count": 55,
   "id": "a0fa1d66",
   "metadata": {},
   "outputs": [
    {
     "data": {
      "text/html": [
       "<div>\n",
       "<style scoped>\n",
       "    .dataframe tbody tr th:only-of-type {\n",
       "        vertical-align: middle;\n",
       "    }\n",
       "\n",
       "    .dataframe tbody tr th {\n",
       "        vertical-align: top;\n",
       "    }\n",
       "\n",
       "    .dataframe thead th {\n",
       "        text-align: right;\n",
       "    }\n",
       "</style>\n",
       "<table border=\"1\" class=\"dataframe\">\n",
       "  <thead>\n",
       "    <tr style=\"text-align: right;\">\n",
       "      <th></th>\n",
       "      <th>brand_name</th>\n",
       "      <th>url</th>\n",
       "      <th>Заводские данные_Гарантия</th>\n",
       "      <th>Заводские данные_Страна</th>\n",
       "      <th>Серия модели_Серия</th>\n",
       "      <th>Операционная система_Операционная система</th>\n",
       "      <th>Операционная система_ОС Windows</th>\n",
       "      <th>Процессор_Процессор</th>\n",
       "      <th>Процессор_Количество ядер</th>\n",
       "      <th>Процессор_Кэш-память</th>\n",
       "      <th>...</th>\n",
       "      <th>Жесткий диск_Объем гибридного SSHD</th>\n",
       "      <th>Передача данных_Модуль 3G</th>\n",
       "      <th>Передача данных_Поддержка 4G LTE</th>\n",
       "      <th>Передача данных_Поддержка 5G</th>\n",
       "      <th>Интерфейсы_Разъем для микрофона 3.5 мм</th>\n",
       "      <th>Интерфейсы_Выход D-Sub видео</th>\n",
       "      <th>Процессор_Платформа Intel Evo</th>\n",
       "      <th>basePrice</th>\n",
       "      <th>basePromoPrice</th>\n",
       "      <th>salePrice</th>\n",
       "    </tr>\n",
       "  </thead>\n",
       "  <tbody>\n",
       "    <tr>\n",
       "      <th>30058178</th>\n",
       "      <td>HP</td>\n",
       "      <td>https://www.mvideo.ru/products/noutbuk-dlya-bi...</td>\n",
       "      <td>1 год</td>\n",
       "      <td>Китай</td>\n",
       "      <td>250 G7</td>\n",
       "      <td>Windows 10 Домашняя</td>\n",
       "      <td>установлена</td>\n",
       "      <td>Intel Celeron N4020 1.1 ГГц</td>\n",
       "      <td>2.0</td>\n",
       "      <td>NaN</td>\n",
       "      <td>...</td>\n",
       "      <td>NaN</td>\n",
       "      <td>None</td>\n",
       "      <td>None</td>\n",
       "      <td>None</td>\n",
       "      <td>NaN</td>\n",
       "      <td>NaN</td>\n",
       "      <td>None</td>\n",
       "      <td>24999</td>\n",
       "      <td>NaN</td>\n",
       "      <td>24999</td>\n",
       "    </tr>\n",
       "    <tr>\n",
       "      <th>30058177</th>\n",
       "      <td>HP</td>\n",
       "      <td>https://www.mvideo.ru/products/noutbuk-dlya-bi...</td>\n",
       "      <td>1 год</td>\n",
       "      <td>Китай</td>\n",
       "      <td>250 G7</td>\n",
       "      <td>None</td>\n",
       "      <td>не установлена</td>\n",
       "      <td>Intel Celeron N4020 1.1 ГГц</td>\n",
       "      <td>2.0</td>\n",
       "      <td>NaN</td>\n",
       "      <td>...</td>\n",
       "      <td>NaN</td>\n",
       "      <td>None</td>\n",
       "      <td>None</td>\n",
       "      <td>None</td>\n",
       "      <td>NaN</td>\n",
       "      <td>NaN</td>\n",
       "      <td>None</td>\n",
       "      <td>25999</td>\n",
       "      <td>NaN</td>\n",
       "      <td>25999</td>\n",
       "    </tr>\n",
       "    <tr>\n",
       "      <th>30051446</th>\n",
       "      <td>MSI</td>\n",
       "      <td>https://www.mvideo.ru/products/noutbuk-igrovoi...</td>\n",
       "      <td>2 года</td>\n",
       "      <td>Китай</td>\n",
       "      <td>CREATOR 15</td>\n",
       "      <td>Windows 10</td>\n",
       "      <td>установлена</td>\n",
       "      <td>Intel Core i7 10875H 2.3 ГГц</td>\n",
       "      <td>8.0</td>\n",
       "      <td>16.0</td>\n",
       "      <td>...</td>\n",
       "      <td>NaN</td>\n",
       "      <td>None</td>\n",
       "      <td>None</td>\n",
       "      <td>None</td>\n",
       "      <td>NaN</td>\n",
       "      <td>NaN</td>\n",
       "      <td>None</td>\n",
       "      <td>214999</td>\n",
       "      <td>NaN</td>\n",
       "      <td>214999</td>\n",
       "    </tr>\n",
       "  </tbody>\n",
       "</table>\n",
       "<p>3 rows × 104 columns</p>\n",
       "</div>"
      ],
      "text/plain": [
       "         brand_name                                                url  \\\n",
       "30058178         HP  https://www.mvideo.ru/products/noutbuk-dlya-bi...   \n",
       "30058177         HP  https://www.mvideo.ru/products/noutbuk-dlya-bi...   \n",
       "30051446        MSI  https://www.mvideo.ru/products/noutbuk-igrovoi...   \n",
       "\n",
       "         Заводские данные_Гарантия Заводские данные_Страна Серия модели_Серия  \\\n",
       "30058178                     1 год                   Китай             250 G7   \n",
       "30058177                     1 год                   Китай             250 G7   \n",
       "30051446                    2 года                   Китай         CREATOR 15   \n",
       "\n",
       "         Операционная система_Операционная система  \\\n",
       "30058178                       Windows 10 Домашняя   \n",
       "30058177                                      None   \n",
       "30051446                                Windows 10   \n",
       "\n",
       "         Операционная система_ОС Windows           Процессор_Процессор  \\\n",
       "30058178                     установлена   Intel Celeron N4020 1.1 ГГц   \n",
       "30058177                  не установлена   Intel Celeron N4020 1.1 ГГц   \n",
       "30051446                     установлена  Intel Core i7 10875H 2.3 ГГц   \n",
       "\n",
       "          Процессор_Количество ядер  Процессор_Кэш-память  ...  \\\n",
       "30058178                        2.0                   NaN  ...   \n",
       "30058177                        2.0                   NaN  ...   \n",
       "30051446                        8.0                  16.0  ...   \n",
       "\n",
       "         Жесткий диск_Объем гибридного SSHD Передача данных_Модуль 3G  \\\n",
       "30058178                                NaN                      None   \n",
       "30058177                                NaN                      None   \n",
       "30051446                                NaN                      None   \n",
       "\n",
       "         Передача данных_Поддержка 4G LTE Передача данных_Поддержка 5G  \\\n",
       "30058178                             None                         None   \n",
       "30058177                             None                         None   \n",
       "30051446                             None                         None   \n",
       "\n",
       "         Интерфейсы_Разъем для микрофона 3.5 мм  Интерфейсы_Выход D-Sub видео  \\\n",
       "30058178                                    NaN                           NaN   \n",
       "30058177                                    NaN                           NaN   \n",
       "30051446                                    NaN                           NaN   \n",
       "\n",
       "         Процессор_Платформа Intel Evo basePrice  basePromoPrice  salePrice  \n",
       "30058178                          None     24999             NaN      24999  \n",
       "30058177                          None     25999             NaN      25999  \n",
       "30051446                          None    214999             NaN     214999  \n",
       "\n",
       "[3 rows x 104 columns]"
      ]
     },
     "execution_count": 55,
     "metadata": {},
     "output_type": "execute_result"
    }
   ],
   "source": [
    "df[df[\"Корпус_Материал корпуса\"].isna()]"
   ]
  },
  {
   "cell_type": "markdown",
   "id": "f34edc33",
   "metadata": {},
   "source": [
    "# Электропитание_Работа от аккумулятора"
   ]
  },
  {
   "cell_type": "code",
   "execution_count": 56,
   "id": "f5f11fd3",
   "metadata": {},
   "outputs": [
    {
     "data": {
      "text/plain": [
       "до 5 часов         146\n",
       "до 7 часов         126\n",
       "до 6 часов         100\n",
       "до 8 часов          74\n",
       "до 10 часов         49\n",
       "до 9 часов          47\n",
       "до 11 часов         39\n",
       "до 17 часов         30\n",
       "до 12 часов         28\n",
       "до 18 часов         26\n",
       "до 20 часов         21\n",
       "до 15 часов         17\n",
       "до 14 часов         12\n",
       "до 21 часа          12\n",
       "до 4 часов          10\n",
       "до 13 часов         10\n",
       "до 6 ч 30 мин       10\n",
       "до 5 ч 30 мин        8\n",
       "до 8 ч 45 мин        6\n",
       "до 16 часов          6\n",
       "до 5 ч 10 мин        6\n",
       "до 4 ч 50 мин        5\n",
       "до 7 ч 45 мин        4\n",
       "до 12 ч 30 мин       4\n",
       "до 9 ч 30 мин        4\n",
       "до 4 ч 30 мин        4\n",
       "до 10 ч 30 мин       4\n",
       "до 7 ч 30 мин        4\n",
       "до 5 ч 50 мин        3\n",
       "до 15 ч 30 мин       3\n",
       "до 8 ч 30 мин        3\n",
       "до 11 ч 30 мин       2\n",
       "до 9 ч 30 минут      2\n",
       "до 3 часов           2\n",
       "до 29 часов          1\n",
       "до 13 ч 30 мин       1\n",
       "до 25 часов          1\n",
       "до 3 ч 30 мин        1\n",
       "до 5 ч 45 мин        1\n",
       "до 3 ч 55 мин        1\n",
       "до 4 ч 10 мин        1\n",
       "Name: Электропитание_Работа от аккумулятора, dtype: int64"
      ]
     },
     "execution_count": 56,
     "metadata": {},
     "output_type": "execute_result"
    }
   ],
   "source": [
    "df[\"Электропитание_Работа от аккумулятора\"].value_counts()"
   ]
  },
  {
   "cell_type": "code",
   "execution_count": 57,
   "id": "7d2b5ce5",
   "metadata": {},
   "outputs": [
    {
     "data": {
      "text/plain": [
       "30062056       7\n",
       "30065211       5\n",
       "30056687       7\n",
       "30064594      20\n",
       "30061606       5\n",
       "            ... \n",
       "400027919    NaN\n",
       "4183550        5\n",
       "400027896    NaN\n",
       "400029644    NaN\n",
       "4129209        5\n",
       "Name: Электропитание_Работа от аккумулятора, Length: 933, dtype: object"
      ]
     },
     "execution_count": 57,
     "metadata": {},
     "output_type": "execute_result"
    }
   ],
   "source": [
    "df[\"Электропитание_Работа от аккумулятора\"].apply(lambda x: np.NaN if not x else x.split()[1])"
   ]
  },
  {
   "cell_type": "code",
   "execution_count": null,
   "id": "40f1e45a",
   "metadata": {},
   "outputs": [],
   "source": []
  },
  {
   "cell_type": "code",
   "execution_count": null,
   "id": "4454ff55",
   "metadata": {},
   "outputs": [],
   "source": []
  },
  {
   "cell_type": "code",
   "execution_count": null,
   "id": "6ee5dcd6",
   "metadata": {},
   "outputs": [],
   "source": []
  },
  {
   "cell_type": "code",
   "execution_count": null,
   "id": "a3706d8a",
   "metadata": {},
   "outputs": [],
   "source": []
  },
  {
   "cell_type": "code",
   "execution_count": null,
   "id": "16364a5e",
   "metadata": {},
   "outputs": [],
   "source": []
  },
  {
   "cell_type": "code",
   "execution_count": null,
   "id": "dca2b425",
   "metadata": {},
   "outputs": [],
   "source": []
  },
  {
   "cell_type": "markdown",
   "id": "2792ac8f",
   "metadata": {},
   "source": [
    "# Функция для подготовки данных"
   ]
  },
  {
   "cell_type": "code",
   "execution_count": 6,
   "id": "db3c0947",
   "metadata": {},
   "outputs": [],
   "source": [
    "def replace_rare_category(column: pd.Series, percent: float = 0.05, replace_with: str = \"other\") -> pd.Series:\n",
    "    counts = column.value_counts(normalize=True)\n",
    "    rare_categories = counts[counts < percent].index\n",
    "    return column.replace(dict.fromkeys(rare_categories, replace_with))\n",
    "\n",
    "\n",
    "def proc_frequency(proc: str) -> float:\n",
    "    values = proc.split()\n",
    "    if values and values[-1] == \"ГГц\":\n",
    "        return float(values[-2])\n",
    "    else:\n",
    "        return np.NAN\n",
    "\n",
    "\n",
    "def get_video_memory(column):\n",
    "    if not column or column == \"интегрированная\":\n",
    "        return 0\n",
    "    values = column.split()\n",
    "    if values and values[-1].endswith(\"GB\"):\n",
    "        return int(values[-1].replace(\"GB\", \"\"))\n",
    "    else:\n",
    "        return np.NAN\n",
    "\n",
    "\n",
    "def get_proc_name(proc: str, popular_names: list = None):\n",
    "    values = proc.split()\n",
    "    if not values:\n",
    "        return np.NAN\n",
    "    if values[0] == \"Intel\" and values[1] == \"Core\":\n",
    "        result = \" \".join(values[0:3])\n",
    "    else:\n",
    "        result = \" \".join(values[0:2])\n",
    "\n",
    "    if not popular_names is None:\n",
    "        if result not in popular_names:\n",
    "            result = values[0]\n",
    "    return result\n",
    "\n",
    "\n",
    "def convert_volume_to_number(val):\n",
    "    if not val:\n",
    "        return 0\n",
    "    num, item = val.split()\n",
    "    num = int(num)\n",
    "    if item.lower() == \"тб\":\n",
    "        return 1024 * num\n",
    "    else:\n",
    "        return num\n",
    "\n",
    "\n",
    "def fill_na(df: pd.DataFrame) -> pd.DataFrame:\n",
    "    df_new = df.copy()\n",
    "    df_new[\"proc_freq\"] = df_new.groupby(\"proc_brand\").proc_freq.transform(lambda x: x.fillna(x.mean()))\n",
    "    df_new[\"proc_count\"] = df_new.groupby(\"proc_brand\").proc_count.transform(lambda x: x.fillna(x.mean()))\n",
    "    df_new[\"videocard_memory\"] = df_new.groupby(\"videocard\").videocard_memory.transform(\n",
    "        lambda x: x.fillna(np.NaN if not x.count() else x.mode()[0]))\n",
    "    df_new[\"videocard_memory\"] = df_new[\"videocard_memory\"].fillna(0)\n",
    "    df_new[\"screen\"] = df_new[\"screen\"].fillna(df_new[\"screen\"].mode()[0])\n",
    "    df_new[\"material\"] = df_new[\"material\"].fillna(df_new[\"material\"].mode()[0])\n",
    "    df_new[\"battery_life\"] = df_new.groupby(\"brand_name\").battery_life.transform(lambda x: x.fillna(x.mean()))\n",
    "    return df_new\n",
    "\n",
    "\n",
    "def prepare_data(df: pd.DataFrame) -> pd.DataFrame:\n",
    "    selected_features = [\n",
    "        \"brand_name\"\n",
    "    ]\n",
    "\n",
    "    df_new = df[selected_features].copy()\n",
    "    df_new[\"priceLog\"] = np.log1p(df.basePrice)\n",
    "\n",
    "    df_new[\"brand_name\"] = replace_rare_category(df_new[\"brand_name\"])\n",
    "    df_new[\"brand_name\"] = df_new[\"brand_name\"].str.lower()\n",
    "\n",
    "    df_new[\"proc_freq\"] = df[\"Процессор_Процессор\"].apply(proc_frequency)\n",
    "    df_new[\"proc_brand\"] = df[\"Процессор_Процессор\"].apply(lambda x: x.split()[0])\n",
    "    df_new[\"proc_brand\"] = df_new[\"proc_brand\"].str.lower()\n",
    "\n",
    "    proc_names_counts = df[\"Процессор_Процессор\"].apply(get_proc_name).value_counts(normalize=True)\n",
    "    popular_proc_names = proc_names_counts[proc_names_counts > 0.05].index\n",
    "    df_new[\"proc_name\"] = df[\"Процессор_Процессор\"].apply(get_proc_name, args=(popular_proc_names,))\n",
    "    df_new[\"proc_name\"] = df_new[\"proc_name\"].str.lower()\n",
    "\n",
    "    df_new[\"proc_count\"] = df[\"Процессор_Количество ядер\"]\n",
    "\n",
    "    df_new[\"videocard\"] = df[\"Видеокарта_Графический контроллер\"]\n",
    "    df_new.loc[df_new[\"videocard\"].isna(), \"videocard\"] = \"интегрированная\"\n",
    "    df_new.loc[df_new[\"videocard\"].str.contains(\"Intel\"), \"videocard\"] = \"интегрированная\"\n",
    "    df_new.loc[df_new[\"videocard\"].str.contains(\"UHD Graphics\"), \"videocard\"] = \"интегрированная\"\n",
    "\n",
    "    df_new[\"videocard_memory\"] = df_new[\"videocard\"].apply(get_video_memory)\n",
    "\n",
    "    df_new.loc[df_new[\"videocard\"].str.contains(\"GeForce RTX\"), \"videocard\"] = \"GeForce RTX\"\n",
    "    df_new.loc[df_new[\"videocard\"].str.contains(\"GeForce GTX\"), \"videocard\"] = \"GeForce GTX\"\n",
    "    df_new.loc[df_new[\"videocard\"].str.contains(\"GeForce MX\"), \"videocard\"] = \"GeForce MX\"\n",
    "    df_new.loc[df_new[\"videocard\"].str.contains(\"Radeon\"), \"videocard\"] = \"Radeon\"\n",
    "    df_new[\"videocard\"] = replace_rare_category(df_new[\"videocard\"], percent=0.03)\n",
    "    df_new[\"videocard\"] = df_new[\"videocard\"].str.lower()\n",
    "\n",
    "    df_new[\"screen\"] = df[\"Экран_Диагональ экрана\"].apply(lambda x: np.NAN if not x else int(float(x.split('\"')[0])))\n",
    "\n",
    "    df_new[\"ssd_volume\"] = df[\"Жесткий диск_Объем SSD\"].apply(convert_volume_to_number)\n",
    "    df_new[\"ram\"] = df[\"Оперативная память_Оперативная память (RAM)\"]\n",
    "    df_new[\"hdmi\"] = ~df[\"Интерфейсы_Выход HDMI\"].isna()\n",
    "\n",
    "    df_new[\"material\"] = df[\"Корпус_Материал корпуса\"]\n",
    "    df_new.loc[~df_new[\"material\"].isna() & df_new[\"material\"].str.contains(\"алюмин|металл|сплав|магний\"), \"material\"] = \"металл\"\n",
    "    df_new.loc[~df_new[\"material\"].isna() & df_new[\"material\"].str.contains(\"пластик|углерод|поликарб\"), \"material\"] = \"пластик\"\n",
    "\n",
    "    df_new[\"battery_life\"] = df[\"Электропитание_Работа от аккумулятора\"].apply(lambda x: np.NaN if not x else float(x.split()[1]))\n",
    "\n",
    "    return df_new\n",
    "\n"
   ]
  },
  {
   "cell_type": "code",
   "execution_count": 7,
   "id": "95b09d86",
   "metadata": {},
   "outputs": [
    {
     "data": {
      "text/html": [
       "<div>\n",
       "<style scoped>\n",
       "    .dataframe tbody tr th:only-of-type {\n",
       "        vertical-align: middle;\n",
       "    }\n",
       "\n",
       "    .dataframe tbody tr th {\n",
       "        vertical-align: top;\n",
       "    }\n",
       "\n",
       "    .dataframe thead th {\n",
       "        text-align: right;\n",
       "    }\n",
       "</style>\n",
       "<table border=\"1\" class=\"dataframe\">\n",
       "  <thead>\n",
       "    <tr style=\"text-align: right;\">\n",
       "      <th></th>\n",
       "      <th>brand_name</th>\n",
       "      <th>priceLog</th>\n",
       "      <th>proc_freq</th>\n",
       "      <th>proc_brand</th>\n",
       "      <th>proc_name</th>\n",
       "      <th>proc_count</th>\n",
       "      <th>videocard</th>\n",
       "      <th>videocard_memory</th>\n",
       "      <th>screen</th>\n",
       "      <th>ssd_volume</th>\n",
       "      <th>ram</th>\n",
       "      <th>hdmi</th>\n",
       "      <th>material</th>\n",
       "      <th>battery_life</th>\n",
       "    </tr>\n",
       "  </thead>\n",
       "  <tbody>\n",
       "    <tr>\n",
       "      <th>30062056</th>\n",
       "      <td>other</td>\n",
       "      <td>11.156251</td>\n",
       "      <td>1.600000</td>\n",
       "      <td>intel</td>\n",
       "      <td>intel core i5</td>\n",
       "      <td>4.0</td>\n",
       "      <td>интегрированная</td>\n",
       "      <td>0.0</td>\n",
       "      <td>15.0</td>\n",
       "      <td>512</td>\n",
       "      <td>16</td>\n",
       "      <td>True</td>\n",
       "      <td>металл</td>\n",
       "      <td>7.0</td>\n",
       "    </tr>\n",
       "    <tr>\n",
       "      <th>30065211</th>\n",
       "      <td>other</td>\n",
       "      <td>11.561716</td>\n",
       "      <td>2.000000</td>\n",
       "      <td>intel</td>\n",
       "      <td>intel core i5</td>\n",
       "      <td>8.0</td>\n",
       "      <td>geforce rtx</td>\n",
       "      <td>4.0</td>\n",
       "      <td>17.0</td>\n",
       "      <td>512</td>\n",
       "      <td>16</td>\n",
       "      <td>True</td>\n",
       "      <td>пластик</td>\n",
       "      <td>5.0</td>\n",
       "    </tr>\n",
       "    <tr>\n",
       "      <th>30056687</th>\n",
       "      <td>other</td>\n",
       "      <td>11.002100</td>\n",
       "      <td>1.600000</td>\n",
       "      <td>intel</td>\n",
       "      <td>intel core i5</td>\n",
       "      <td>4.0</td>\n",
       "      <td>интегрированная</td>\n",
       "      <td>0.0</td>\n",
       "      <td>15.0</td>\n",
       "      <td>512</td>\n",
       "      <td>8</td>\n",
       "      <td>True</td>\n",
       "      <td>металл</td>\n",
       "      <td>7.0</td>\n",
       "    </tr>\n",
       "    <tr>\n",
       "      <th>30064594</th>\n",
       "      <td>apple</td>\n",
       "      <td>11.849398</td>\n",
       "      <td>3.406613</td>\n",
       "      <td>apple</td>\n",
       "      <td>apple m2</td>\n",
       "      <td>8.0</td>\n",
       "      <td>интегрированная</td>\n",
       "      <td>0.0</td>\n",
       "      <td>15.0</td>\n",
       "      <td>256</td>\n",
       "      <td>8</td>\n",
       "      <td>False</td>\n",
       "      <td>металл</td>\n",
       "      <td>20.0</td>\n",
       "    </tr>\n",
       "    <tr>\n",
       "      <th>30061606</th>\n",
       "      <td>msi</td>\n",
       "      <td>11.775290</td>\n",
       "      <td>2.700000</td>\n",
       "      <td>intel</td>\n",
       "      <td>intel core i5</td>\n",
       "      <td>6.0</td>\n",
       "      <td>geforce rtx</td>\n",
       "      <td>6.0</td>\n",
       "      <td>17.0</td>\n",
       "      <td>512</td>\n",
       "      <td>16</td>\n",
       "      <td>True</td>\n",
       "      <td>металл</td>\n",
       "      <td>5.0</td>\n",
       "    </tr>\n",
       "  </tbody>\n",
       "</table>\n",
       "</div>"
      ],
      "text/plain": [
       "         brand_name   priceLog  proc_freq proc_brand      proc_name  \\\n",
       "30062056      other  11.156251   1.600000      intel  intel core i5   \n",
       "30065211      other  11.561716   2.000000      intel  intel core i5   \n",
       "30056687      other  11.002100   1.600000      intel  intel core i5   \n",
       "30064594      apple  11.849398   3.406613      apple       apple m2   \n",
       "30061606        msi  11.775290   2.700000      intel  intel core i5   \n",
       "\n",
       "          proc_count        videocard  videocard_memory  screen  ssd_volume  \\\n",
       "30062056         4.0  интегрированная               0.0    15.0         512   \n",
       "30065211         8.0      geforce rtx               4.0    17.0         512   \n",
       "30056687         4.0  интегрированная               0.0    15.0         512   \n",
       "30064594         8.0  интегрированная               0.0    15.0         256   \n",
       "30061606         6.0      geforce rtx               6.0    17.0         512   \n",
       "\n",
       "          ram   hdmi material  battery_life  \n",
       "30062056   16   True   металл           7.0  \n",
       "30065211   16   True  пластик           5.0  \n",
       "30056687    8   True   металл           7.0  \n",
       "30064594    8  False   металл          20.0  \n",
       "30061606   16   True   металл           5.0  "
      ]
     },
     "metadata": {},
     "output_type": "display_data"
    },
    {
     "name": "stdout",
     "output_type": "stream",
     "text": [
      "<class 'pandas.core.frame.DataFrame'>\n",
      "Int64Index: 933 entries, 30062056 to 4129209\n",
      "Data columns (total 14 columns):\n",
      " #   Column            Non-Null Count  Dtype  \n",
      "---  ------            --------------  -----  \n",
      " 0   brand_name        933 non-null    object \n",
      " 1   priceLog          933 non-null    float64\n",
      " 2   proc_freq         933 non-null    float64\n",
      " 3   proc_brand        933 non-null    object \n",
      " 4   proc_name         933 non-null    object \n",
      " 5   proc_count        933 non-null    float64\n",
      " 6   videocard         933 non-null    object \n",
      " 7   videocard_memory  933 non-null    float64\n",
      " 8   screen            933 non-null    float64\n",
      " 9   ssd_volume        933 non-null    int64  \n",
      " 10  ram               933 non-null    int64  \n",
      " 11  hdmi              933 non-null    bool   \n",
      " 12  material          933 non-null    object \n",
      " 13  battery_life      933 non-null    float64\n",
      "dtypes: bool(1), float64(6), int64(2), object(5)\n",
      "memory usage: 103.0+ KB\n"
     ]
    },
    {
     "data": {
      "text/plain": [
       "None"
      ]
     },
     "metadata": {},
     "output_type": "display_data"
    }
   ],
   "source": [
    "df_clean = pd.read_parquet(PATH, engine=\"pyarrow\")\n",
    "df_prepared = prepare_data(df_clean)\n",
    "df_prepared = fill_na(df_prepared)\n",
    "display(df_prepared.head())\n",
    "display(df_prepared.info())"
   ]
  },
  {
   "cell_type": "code",
   "execution_count": 14,
   "id": "2c273b5c",
   "metadata": {},
   "outputs": [],
   "source": [
    "from IPython.core.display import HTML"
   ]
  },
  {
   "cell_type": "code",
   "execution_count": 17,
   "id": "8026d225",
   "metadata": {},
   "outputs": [
    {
     "data": {
      "text/html": [
       "<h3>brand_name</h3>"
      ],
      "text/plain": [
       "<IPython.core.display.HTML object>"
      ]
     },
     "metadata": {},
     "output_type": "display_data"
    },
    {
     "name": "stdout",
     "output_type": "stream",
     "text": [
      "['other' 'apple' 'msi' 'acer' 'lenovo' 'hp' 'asus']\n"
     ]
    },
    {
     "data": {
      "text/html": [
       "<h3>priceLog</h3>"
      ],
      "text/plain": [
       "<IPython.core.display.HTML object>"
      ]
     },
     "metadata": {},
     "output_type": "display_data"
    },
    {
     "name": "stdout",
     "output_type": "stream",
     "text": [
      "count    933.000000\n",
      "mean      11.245048\n",
      "std        0.751277\n",
      "min        8.736489\n",
      "25%       10.714418\n",
      "50%       11.289669\n",
      "75%       11.820344\n",
      "max       13.217674\n",
      "Name: priceLog, dtype: float64\n"
     ]
    },
    {
     "data": {
      "text/html": [
       "<h3>proc_freq</h3>"
      ],
      "text/plain": [
       "<IPython.core.display.HTML object>"
      ]
     },
     "metadata": {},
     "output_type": "display_data"
    },
    {
     "name": "stdout",
     "output_type": "stream",
     "text": [
      "count    933.000000\n",
      "mean       2.359155\n",
      "std        0.786189\n",
      "min        0.000000\n",
      "25%        1.800000\n",
      "50%        2.400000\n",
      "75%        3.100000\n",
      "max        3.700000\n",
      "Name: proc_freq, dtype: float64\n"
     ]
    },
    {
     "data": {
      "text/html": [
       "<h3>proc_brand</h3>"
      ],
      "text/plain": [
       "<IPython.core.display.HTML object>"
      ]
     },
     "metadata": {},
     "output_type": "display_data"
    },
    {
     "name": "stdout",
     "output_type": "stream",
     "text": [
      "['intel' 'apple' 'amd' 'core' 'qualcomm' 'zhaoxin']\n"
     ]
    },
    {
     "data": {
      "text/html": [
       "<h3>proc_name</h3>"
      ],
      "text/plain": [
       "<IPython.core.display.HTML object>"
      ]
     },
     "metadata": {},
     "output_type": "display_data"
    },
    {
     "name": "stdout",
     "output_type": "stream",
     "text": [
      "['intel core i5' 'apple m2' 'intel pentium' 'intel core i3'\n",
      " 'intel core i7' 'amd ryzen' 'intel celeron' 'amd' 'apple m1' 'intel'\n",
      " 'core' 'qualcomm' 'zhaoxin']\n"
     ]
    },
    {
     "data": {
      "text/html": [
       "<h3>proc_count</h3>"
      ],
      "text/plain": [
       "<IPython.core.display.HTML object>"
      ]
     },
     "metadata": {},
     "output_type": "display_data"
    },
    {
     "name": "stdout",
     "output_type": "stream",
     "text": [
      "count    933.000000\n",
      "mean       5.051682\n",
      "std        2.689809\n",
      "min        2.000000\n",
      "25%        2.000000\n",
      "50%        4.000000\n",
      "75%        8.000000\n",
      "max       14.000000\n",
      "Name: proc_count, dtype: float64\n"
     ]
    },
    {
     "data": {
      "text/html": [
       "<h3>videocard</h3>"
      ],
      "text/plain": [
       "<IPython.core.display.HTML object>"
      ]
     },
     "metadata": {},
     "output_type": "display_data"
    },
    {
     "name": "stdout",
     "output_type": "stream",
     "text": [
      "['интегрированная' 'geforce rtx' 'geforce mx' 'radeon' 'geforce gtx'\n",
      " 'other']\n"
     ]
    },
    {
     "data": {
      "text/html": [
       "<h3>videocard_memory</h3>"
      ],
      "text/plain": [
       "<IPython.core.display.HTML object>"
      ]
     },
     "metadata": {},
     "output_type": "display_data"
    },
    {
     "name": "stdout",
     "output_type": "stream",
     "text": [
      "count    933.000000\n",
      "mean       2.533762\n",
      "std        3.494660\n",
      "min        0.000000\n",
      "25%        0.000000\n",
      "50%        0.000000\n",
      "75%        6.000000\n",
      "max       16.000000\n",
      "Name: videocard_memory, dtype: float64\n"
     ]
    },
    {
     "data": {
      "text/html": [
       "<h3>screen</h3>"
      ],
      "text/plain": [
       "<IPython.core.display.HTML object>"
      ]
     },
     "metadata": {},
     "output_type": "display_data"
    },
    {
     "name": "stdout",
     "output_type": "stream",
     "text": [
      "count    933.000000\n",
      "mean      14.741693\n",
      "std        1.066837\n",
      "min       10.000000\n",
      "25%       14.000000\n",
      "50%       15.000000\n",
      "75%       15.000000\n",
      "max       17.000000\n",
      "Name: screen, dtype: float64\n"
     ]
    },
    {
     "data": {
      "text/html": [
       "<h3>ssd_volume</h3>"
      ],
      "text/plain": [
       "<IPython.core.display.HTML object>"
      ]
     },
     "metadata": {},
     "output_type": "display_data"
    },
    {
     "name": "stdout",
     "output_type": "stream",
     "text": [
      "count     933.000000\n",
      "mean      527.241158\n",
      "std       871.541749\n",
      "min         0.000000\n",
      "25%       256.000000\n",
      "50%       512.000000\n",
      "75%       512.000000\n",
      "max      8192.000000\n",
      "Name: ssd_volume, dtype: float64\n"
     ]
    },
    {
     "data": {
      "text/html": [
       "<h3>ram</h3>"
      ],
      "text/plain": [
       "<IPython.core.display.HTML object>"
      ]
     },
     "metadata": {},
     "output_type": "display_data"
    },
    {
     "name": "stdout",
     "output_type": "stream",
     "text": [
      "count    933.000000\n",
      "mean      10.853162\n",
      "std        7.434758\n",
      "min        2.000000\n",
      "25%        8.000000\n",
      "50%        8.000000\n",
      "75%       16.000000\n",
      "max       64.000000\n",
      "Name: ram, dtype: float64\n"
     ]
    },
    {
     "data": {
      "text/html": [
       "<h3>hdmi</h3>"
      ],
      "text/plain": [
       "<IPython.core.display.HTML object>"
      ]
     },
     "metadata": {},
     "output_type": "display_data"
    },
    {
     "name": "stdout",
     "output_type": "stream",
     "text": [
      "count      933\n",
      "unique       2\n",
      "top       True\n",
      "freq       581\n",
      "Name: hdmi, dtype: object\n"
     ]
    },
    {
     "data": {
      "text/html": [
       "<h3>material</h3>"
      ],
      "text/plain": [
       "<IPython.core.display.HTML object>"
      ]
     },
     "metadata": {},
     "output_type": "display_data"
    },
    {
     "name": "stdout",
     "output_type": "stream",
     "text": [
      "['металл' 'пластик']\n"
     ]
    },
    {
     "data": {
      "text/html": [
       "<h3>battery_life</h3>"
      ],
      "text/plain": [
       "<IPython.core.display.HTML object>"
      ]
     },
     "metadata": {},
     "output_type": "display_data"
    },
    {
     "name": "stdout",
     "output_type": "stream",
     "text": [
      "count    933.000000\n",
      "mean       9.397420\n",
      "std        4.588532\n",
      "min        3.000000\n",
      "25%        6.000000\n",
      "50%        8.000000\n",
      "75%       12.000000\n",
      "max       29.000000\n",
      "Name: battery_life, dtype: float64\n"
     ]
    }
   ],
   "source": [
    "for x in df_prepared.columns:\n",
    "    display(HTML(f'<h3>{x}</h3>'))\n",
    "    if df_prepared[x].dtype == \"object\":\n",
    "        print(df_prepared[x].unique())\n",
    "    else:\n",
    "        print(df_prepared[x].describe())"
   ]
  },
  {
   "cell_type": "code",
   "execution_count": null,
   "id": "31df1ef7",
   "metadata": {},
   "outputs": [],
   "source": []
  }
 ],
 "metadata": {
  "kernelspec": {
   "display_name": "Python 3 (ipykernel)",
   "language": "python",
   "name": "python3"
  },
  "language_info": {
   "codemirror_mode": {
    "name": "ipython",
    "version": 3
   },
   "file_extension": ".py",
   "mimetype": "text/x-python",
   "name": "python",
   "nbconvert_exporter": "python",
   "pygments_lexer": "ipython3",
   "version": "3.9.7"
  }
 },
 "nbformat": 4,
 "nbformat_minor": 5
}
