{
 "cells": [
  {
   "cell_type": "markdown",
   "id": "434f3eca",
   "metadata": {},
   "source": [
    "# Проведем оценку работы нескольких моделей и выберем лучшую\n",
    "\n",
    "Проверим следующие модели:\n",
    "- dummy model (mean by brand_name)\n",
    "- линейные модели (с регуляризацией)\n",
    "- случайный лес\n",
    "- cat boost\n",
    "\n",
    "Также для передачи в модель данные требуется векторизовать\n"
   ]
  },
  {
   "cell_type": "code",
   "execution_count": 1,
   "id": "dd66fb90",
   "metadata": {},
   "outputs": [],
   "source": [
    "import pandas as pd\n",
    "import numpy as np\n",
    "from pprint import pprint\n",
    "\n",
    "from sklearn.preprocessing import StandardScaler\n",
    "from sklearn.feature_extraction import DictVectorizer\n",
    "from sklearn.model_selection import train_test_split, cross_val_score\n",
    "from sklearn.base import BaseEstimator\n",
    "\n",
    "from sklearn.linear_model import Ridge, LinearRegression, RidgeCV\n",
    "from sklearn.ensemble import RandomForestRegressor\n",
    "from catboost import CatBoostRegressor, Pool\n",
    "\n",
    "from ngboost import NGBRegressor\n",
    "from ngboost.distns import Normal\n",
    "from scipy.stats import norm\n",
    "\n",
    "from sklearn.metrics import mean_squared_error\n"
   ]
  },
  {
   "cell_type": "code",
   "execution_count": 2,
   "id": "ba3db96a",
   "metadata": {},
   "outputs": [],
   "source": [
    "SEED = 42"
   ]
  },
  {
   "cell_type": "markdown",
   "id": "218e96e7",
   "metadata": {},
   "source": [
    "# Прочитаем данные"
   ]
  },
  {
   "cell_type": "code",
   "execution_count": 3,
   "id": "917d23ed",
   "metadata": {},
   "outputs": [],
   "source": [
    "df = pd.read_csv(\"../data/processed/clean_data.csv\")"
   ]
  },
  {
   "cell_type": "code",
   "execution_count": 4,
   "id": "3ffe29e4",
   "metadata": {},
   "outputs": [
    {
     "data": {
      "text/html": [
       "<div>\n",
       "<style scoped>\n",
       "    .dataframe tbody tr th:only-of-type {\n",
       "        vertical-align: middle;\n",
       "    }\n",
       "\n",
       "    .dataframe tbody tr th {\n",
       "        vertical-align: top;\n",
       "    }\n",
       "\n",
       "    .dataframe thead th {\n",
       "        text-align: right;\n",
       "    }\n",
       "</style>\n",
       "<table border=\"1\" class=\"dataframe\">\n",
       "  <thead>\n",
       "    <tr style=\"text-align: right;\">\n",
       "      <th></th>\n",
       "      <th>brand_name</th>\n",
       "      <th>priceLog</th>\n",
       "      <th>proc_freq</th>\n",
       "      <th>proc_brand</th>\n",
       "      <th>proc_name</th>\n",
       "      <th>proc_count</th>\n",
       "      <th>videocard</th>\n",
       "      <th>videocard_memory</th>\n",
       "      <th>screen</th>\n",
       "      <th>ssd_volume</th>\n",
       "      <th>ram</th>\n",
       "      <th>hdmi</th>\n",
       "      <th>material</th>\n",
       "      <th>battery_life</th>\n",
       "    </tr>\n",
       "  </thead>\n",
       "  <tbody>\n",
       "    <tr>\n",
       "      <th>0</th>\n",
       "      <td>other</td>\n",
       "      <td>11.156251</td>\n",
       "      <td>1.600000</td>\n",
       "      <td>intel</td>\n",
       "      <td>intel core i5</td>\n",
       "      <td>4.0</td>\n",
       "      <td>интегрированная</td>\n",
       "      <td>0.0</td>\n",
       "      <td>15.0</td>\n",
       "      <td>512</td>\n",
       "      <td>16</td>\n",
       "      <td>True</td>\n",
       "      <td>металл</td>\n",
       "      <td>7.0</td>\n",
       "    </tr>\n",
       "    <tr>\n",
       "      <th>1</th>\n",
       "      <td>other</td>\n",
       "      <td>11.561716</td>\n",
       "      <td>2.000000</td>\n",
       "      <td>intel</td>\n",
       "      <td>intel core i5</td>\n",
       "      <td>8.0</td>\n",
       "      <td>geforce rtx</td>\n",
       "      <td>4.0</td>\n",
       "      <td>17.0</td>\n",
       "      <td>512</td>\n",
       "      <td>16</td>\n",
       "      <td>True</td>\n",
       "      <td>пластик</td>\n",
       "      <td>5.0</td>\n",
       "    </tr>\n",
       "    <tr>\n",
       "      <th>2</th>\n",
       "      <td>other</td>\n",
       "      <td>11.002100</td>\n",
       "      <td>1.600000</td>\n",
       "      <td>intel</td>\n",
       "      <td>intel core i5</td>\n",
       "      <td>4.0</td>\n",
       "      <td>интегрированная</td>\n",
       "      <td>0.0</td>\n",
       "      <td>15.0</td>\n",
       "      <td>512</td>\n",
       "      <td>8</td>\n",
       "      <td>True</td>\n",
       "      <td>металл</td>\n",
       "      <td>7.0</td>\n",
       "    </tr>\n",
       "    <tr>\n",
       "      <th>3</th>\n",
       "      <td>apple</td>\n",
       "      <td>11.849398</td>\n",
       "      <td>3.406613</td>\n",
       "      <td>apple</td>\n",
       "      <td>apple m2</td>\n",
       "      <td>8.0</td>\n",
       "      <td>интегрированная</td>\n",
       "      <td>0.0</td>\n",
       "      <td>15.0</td>\n",
       "      <td>256</td>\n",
       "      <td>8</td>\n",
       "      <td>False</td>\n",
       "      <td>металл</td>\n",
       "      <td>20.0</td>\n",
       "    </tr>\n",
       "    <tr>\n",
       "      <th>4</th>\n",
       "      <td>msi</td>\n",
       "      <td>11.775290</td>\n",
       "      <td>2.700000</td>\n",
       "      <td>intel</td>\n",
       "      <td>intel core i5</td>\n",
       "      <td>6.0</td>\n",
       "      <td>geforce rtx</td>\n",
       "      <td>6.0</td>\n",
       "      <td>17.0</td>\n",
       "      <td>512</td>\n",
       "      <td>16</td>\n",
       "      <td>True</td>\n",
       "      <td>металл</td>\n",
       "      <td>5.0</td>\n",
       "    </tr>\n",
       "  </tbody>\n",
       "</table>\n",
       "</div>"
      ],
      "text/plain": [
       "  brand_name   priceLog  proc_freq proc_brand      proc_name  proc_count  \\\n",
       "0      other  11.156251   1.600000      intel  intel core i5         4.0   \n",
       "1      other  11.561716   2.000000      intel  intel core i5         8.0   \n",
       "2      other  11.002100   1.600000      intel  intel core i5         4.0   \n",
       "3      apple  11.849398   3.406613      apple       apple m2         8.0   \n",
       "4        msi  11.775290   2.700000      intel  intel core i5         6.0   \n",
       "\n",
       "         videocard  videocard_memory  screen  ssd_volume  ram   hdmi material  \\\n",
       "0  интегрированная               0.0    15.0         512   16   True   металл   \n",
       "1      geforce rtx               4.0    17.0         512   16   True  пластик   \n",
       "2  интегрированная               0.0    15.0         512    8   True   металл   \n",
       "3  интегрированная               0.0    15.0         256    8  False   металл   \n",
       "4      geforce rtx               6.0    17.0         512   16   True   металл   \n",
       "\n",
       "   battery_life  \n",
       "0           7.0  \n",
       "1           5.0  \n",
       "2           7.0  \n",
       "3          20.0  \n",
       "4           5.0  "
      ]
     },
     "execution_count": 4,
     "metadata": {},
     "output_type": "execute_result"
    }
   ],
   "source": [
    "df.head()"
   ]
  },
  {
   "cell_type": "code",
   "execution_count": 7,
   "id": "fcbf1e8a",
   "metadata": {},
   "outputs": [
    {
     "name": "stdout",
     "output_type": "stream",
     "text": [
      "<class 'pandas.core.frame.DataFrame'>\n",
      "RangeIndex: 933 entries, 0 to 932\n",
      "Data columns (total 14 columns):\n",
      " #   Column            Non-Null Count  Dtype  \n",
      "---  ------            --------------  -----  \n",
      " 0   brand_name        933 non-null    object \n",
      " 1   priceLog          933 non-null    float64\n",
      " 2   proc_freq         933 non-null    float64\n",
      " 3   proc_brand        933 non-null    object \n",
      " 4   proc_name         933 non-null    object \n",
      " 5   proc_count        933 non-null    float64\n",
      " 6   videocard         933 non-null    object \n",
      " 7   videocard_memory  933 non-null    float64\n",
      " 8   screen            933 non-null    float64\n",
      " 9   ssd_volume        933 non-null    int64  \n",
      " 10  ram               933 non-null    int64  \n",
      " 11  hdmi              933 non-null    bool   \n",
      " 12  material          933 non-null    object \n",
      " 13  battery_life      933 non-null    float64\n",
      "dtypes: bool(1), float64(6), int64(2), object(5)\n",
      "memory usage: 95.8+ KB\n"
     ]
    }
   ],
   "source": [
    "df.info()"
   ]
  },
  {
   "cell_type": "markdown",
   "id": "71fd38c1",
   "metadata": {},
   "source": [
    "# Разделим на трейн и тест"
   ]
  },
  {
   "cell_type": "code",
   "execution_count": 8,
   "id": "6e13b12b",
   "metadata": {},
   "outputs": [],
   "source": [
    "df_train, df_test = train_test_split(df, shuffle=True, random_state=SEED)"
   ]
  },
  {
   "cell_type": "code",
   "execution_count": 9,
   "id": "27ab56e7",
   "metadata": {},
   "outputs": [],
   "source": [
    "y_train = df_train.priceLog\n",
    "y_test = df_test.priceLog\n",
    "X_train = df_train.drop(\"priceLog\", axis=1)\n",
    "X_test = df_test.drop(\"priceLog\", axis=1)"
   ]
  },
  {
   "cell_type": "markdown",
   "id": "131d0e94",
   "metadata": {},
   "source": [
    "# Простая модель"
   ]
  },
  {
   "cell_type": "code",
   "execution_count": 10,
   "id": "67a7fd38",
   "metadata": {},
   "outputs": [],
   "source": [
    "class DummyMeanregressor(BaseEstimator):\n",
    "    \"\"\"\n",
    "    Берет среднюю цены по бренду\n",
    "    \"\"\"\n",
    "    def __init__(self):\n",
    "        self._fitted = False\n",
    "        \n",
    "    def fit(self, X, y):\n",
    "        X_ = X.copy()\n",
    "        X_[\"target\"] = y\n",
    "        self._data = X_.groupby(\"brand_name\").target.mean()\n",
    "        self._fitted = True\n",
    "    \n",
    "    def predict(self, X):\n",
    "        if not self._fitted:\n",
    "            raise \"Model not trained\"\n",
    "        return self._data[X[\"brand_name\"]]\n",
    "    \n",
    "    def score(self, X, y):\n",
    "        return mean_squared_error(self.predict(X), y)\n",
    "    "
   ]
  },
  {
   "cell_type": "code",
   "execution_count": 11,
   "id": "56e5ca6a",
   "metadata": {},
   "outputs": [],
   "source": [
    "def score_model(model, X, y):\n",
    "    result = list(np.round((-cross_val_score(model, X, y, cv=5, scoring='neg_mean_squared_error'))**0.5, 5))\n",
    "    print(f\"Cross validation RMSE for {model}\")\n",
    "    print()\n",
    "    pprint(result)\n",
    "    print()\n",
    "    print(f\"Mean RMSE: {np.round(np.mean(result), 5)}\")\n",
    "   "
   ]
  },
  {
   "cell_type": "code",
   "execution_count": 12,
   "id": "94c63ad3",
   "metadata": {},
   "outputs": [
    {
     "name": "stdout",
     "output_type": "stream",
     "text": [
      "Cross validation RMSE for DummyMeanregressor()\n",
      "\n",
      "[0.56665, 0.64666, 0.57335, 0.60871, 0.60959]\n",
      "\n",
      "Mean RMSE: 0.60099\n"
     ]
    }
   ],
   "source": [
    "score_model(DummyMeanregressor(), X_train, y_train)"
   ]
  },
  {
   "cell_type": "markdown",
   "id": "12a49b49",
   "metadata": {},
   "source": [
    "# Линейная модель\n",
    "\n",
    "Для линейной модели сделаем шкалирование признаков и OHE категориальных признаков"
   ]
  },
  {
   "cell_type": "markdown",
   "id": "b9e93395",
   "metadata": {},
   "source": [
    "### Шкалирование"
   ]
  },
  {
   "cell_type": "code",
   "execution_count": 13,
   "id": "e2d8b6f9",
   "metadata": {},
   "outputs": [],
   "source": [
    "X_train_linear = X_train.copy()\n",
    "X_test_linear = X_test.copy()"
   ]
  },
  {
   "cell_type": "code",
   "execution_count": 14,
   "id": "80a91a23",
   "metadata": {},
   "outputs": [],
   "source": [
    "numerical = X_train_linear.select_dtypes(include=[int, float]).columns.tolist()"
   ]
  },
  {
   "cell_type": "code",
   "execution_count": 15,
   "id": "709ed19f",
   "metadata": {},
   "outputs": [],
   "source": [
    "scaler = StandardScaler()"
   ]
  },
  {
   "cell_type": "code",
   "execution_count": 16,
   "id": "7d31baa0",
   "metadata": {},
   "outputs": [],
   "source": [
    "X_train_linear[numerical] = scaler.fit_transform(X_train_linear[numerical])"
   ]
  },
  {
   "cell_type": "code",
   "execution_count": 17,
   "id": "e0d1ad0a",
   "metadata": {},
   "outputs": [],
   "source": [
    "X_test_linear[numerical] = scaler.transform(X_test_linear[numerical])"
   ]
  },
  {
   "cell_type": "markdown",
   "id": "dbb46cc1",
   "metadata": {},
   "source": [
    "### Преобразуем категориальные фичи"
   ]
  },
  {
   "cell_type": "code",
   "execution_count": 18,
   "id": "b5d0f797",
   "metadata": {},
   "outputs": [],
   "source": [
    "dv = DictVectorizer(sparse=False)"
   ]
  },
  {
   "cell_type": "code",
   "execution_count": 19,
   "id": "5a8ed094",
   "metadata": {},
   "outputs": [],
   "source": [
    "X_train_linear = dv.fit_transform(X_train_linear.to_dict(orient=\"records\"))\n",
    "X_test_linear = dv.transform(X_test_linear.to_dict(orient=\"records\"))"
   ]
  },
  {
   "cell_type": "markdown",
   "id": "1631b089",
   "metadata": {},
   "source": [
    "### Смотрим результаты"
   ]
  },
  {
   "cell_type": "code",
   "execution_count": 20,
   "id": "bbe641f0",
   "metadata": {},
   "outputs": [
    {
     "name": "stdout",
     "output_type": "stream",
     "text": [
      "Cross validation RMSE for LinearRegression()\n",
      "\n",
      "[0.24531, 0.30914, 0.27929, 0.30839, 0.26309]\n",
      "\n",
      "Mean RMSE: 0.28104\n"
     ]
    }
   ],
   "source": [
    "score_model(LinearRegression(), X_train_linear, y_train)"
   ]
  },
  {
   "cell_type": "code",
   "execution_count": 21,
   "id": "488d3dc8",
   "metadata": {},
   "outputs": [],
   "source": [
    "regr_cv = RidgeCV(alphas=[0.1, 1.0, 10.0])"
   ]
  },
  {
   "cell_type": "code",
   "execution_count": 22,
   "id": "b50261ca",
   "metadata": {},
   "outputs": [],
   "source": [
    "model_cv = regr_cv.fit(X_train_linear, y_train)"
   ]
  },
  {
   "cell_type": "code",
   "execution_count": 23,
   "id": "c50e8444",
   "metadata": {},
   "outputs": [
    {
     "name": "stdout",
     "output_type": "stream",
     "text": [
      "Param alpha = 1.0\n"
     ]
    }
   ],
   "source": [
    "print(f\"Param alpha = {model_cv.alpha_}\")"
   ]
  },
  {
   "cell_type": "code",
   "execution_count": 24,
   "id": "ab69fb52",
   "metadata": {},
   "outputs": [
    {
     "name": "stdout",
     "output_type": "stream",
     "text": [
      "Cross validation RMSE for RidgeCV(alphas=[0.1, 1.0, 10.0])\n",
      "\n",
      "[0.24495, 0.30818, 0.28006, 0.31012, 0.24817]\n",
      "\n",
      "Mean RMSE: 0.2783\n"
     ]
    }
   ],
   "source": [
    "score_model(model_cv, X_train_linear, y_train)"
   ]
  },
  {
   "cell_type": "markdown",
   "id": "339dd6d9",
   "metadata": {},
   "source": [
    "> У ленейных моделей результаты оказались лучше чем у простой модели, основанных на средних ценах\n",
    "> Сложно оценить погрешность, в реальных значениях, т.к. мы использовали логарифм цены.\n",
    "> Но видно существенное улучшение\n",
    ">\n",
    "> Также заметим что модель с регуляризацией показала еще более лучший результат (но не значительно)"
   ]
  },
  {
   "cell_type": "markdown",
   "id": "44f6b159",
   "metadata": {},
   "source": [
    "# Случайный лес\n",
    "\n",
    "Также требует преобразования категориальных данных, но шкалирование делать уже не нужно"
   ]
  },
  {
   "cell_type": "code",
   "execution_count": 53,
   "id": "6471c145",
   "metadata": {},
   "outputs": [],
   "source": [
    "X_train_forest = X_train.copy()\n",
    "X_test_forest = X_test.copy()"
   ]
  },
  {
   "cell_type": "code",
   "execution_count": 54,
   "id": "c0b7f060",
   "metadata": {},
   "outputs": [],
   "source": [
    "dv = DictVectorizer(sparse=False)\n",
    "X_train_forest = dv.fit_transform(X_train_forest.to_dict(orient=\"records\"))\n",
    "X_test_forest = dv.transform(X_test_forest.to_dict(orient=\"records\"))"
   ]
  },
  {
   "cell_type": "markdown",
   "id": "dddb144b",
   "metadata": {},
   "source": [
    "### Смотрим результаты"
   ]
  },
  {
   "cell_type": "code",
   "execution_count": 55,
   "id": "876a12cc",
   "metadata": {},
   "outputs": [
    {
     "name": "stdout",
     "output_type": "stream",
     "text": [
      "DEPTH 1\n",
      "Cross validation RMSE for RandomForestRegressor(max_depth=1, n_estimators=200, random_state=42)\n",
      "\n",
      "[0.42047, 0.52617, 0.4689, 0.51254, 0.46665]\n",
      "\n",
      "Mean RMSE: 0.47895\n",
      "DEPTH 3\n",
      "Cross validation RMSE for RandomForestRegressor(max_depth=3, n_estimators=200, random_state=42)\n",
      "\n",
      "[0.28884, 0.31856, 0.30888, 0.29269, 0.28551]\n",
      "\n",
      "Mean RMSE: 0.2989\n",
      "DEPTH 7\n",
      "Cross validation RMSE for RandomForestRegressor(max_depth=7, n_estimators=200, random_state=42)\n",
      "\n",
      "[0.22894, 0.257, 0.24301, 0.19895, 0.21418]\n",
      "\n",
      "Mean RMSE: 0.22842\n",
      "DEPTH 10\n",
      "Cross validation RMSE for RandomForestRegressor(max_depth=10, n_estimators=200, random_state=42)\n",
      "\n",
      "[0.2261, 0.24968, 0.24514, 0.19129, 0.20566]\n",
      "\n",
      "Mean RMSE: 0.22357\n",
      "DEPTH 12\n",
      "Cross validation RMSE for RandomForestRegressor(max_depth=12, n_estimators=200, random_state=42)\n",
      "\n",
      "[0.22676, 0.25008, 0.24494, 0.18977, 0.20511]\n",
      "\n",
      "Mean RMSE: 0.22333\n",
      "DEPTH 15\n",
      "Cross validation RMSE for RandomForestRegressor(max_depth=15, n_estimators=200, random_state=42)\n",
      "\n",
      "[0.22691, 0.24982, 0.2445, 0.18992, 0.20582]\n",
      "\n",
      "Mean RMSE: 0.22339\n"
     ]
    }
   ],
   "source": [
    "for depth in [1,3,7,10, 12, 15]:\n",
    "    print(f\"DEPTH {depth}\")\n",
    "    score_model(RandomForestRegressor(n_estimators=200, max_depth=depth, random_state=SEED), X_train_forest, y_train)\n"
   ]
  },
  {
   "cell_type": "code",
   "execution_count": 56,
   "id": "a43a3510",
   "metadata": {},
   "outputs": [],
   "source": [
    "modelForest = RandomForestRegressor(random_state=SEED, n_estimators=2000)"
   ]
  },
  {
   "cell_type": "code",
   "execution_count": 57,
   "id": "3ef4cc53",
   "metadata": {},
   "outputs": [
    {
     "data": {
      "text/html": [
       "<style>#sk-container-id-2 {color: black;background-color: white;}#sk-container-id-2 pre{padding: 0;}#sk-container-id-2 div.sk-toggleable {background-color: white;}#sk-container-id-2 label.sk-toggleable__label {cursor: pointer;display: block;width: 100%;margin-bottom: 0;padding: 0.3em;box-sizing: border-box;text-align: center;}#sk-container-id-2 label.sk-toggleable__label-arrow:before {content: \"▸\";float: left;margin-right: 0.25em;color: #696969;}#sk-container-id-2 label.sk-toggleable__label-arrow:hover:before {color: black;}#sk-container-id-2 div.sk-estimator:hover label.sk-toggleable__label-arrow:before {color: black;}#sk-container-id-2 div.sk-toggleable__content {max-height: 0;max-width: 0;overflow: hidden;text-align: left;background-color: #f0f8ff;}#sk-container-id-2 div.sk-toggleable__content pre {margin: 0.2em;color: black;border-radius: 0.25em;background-color: #f0f8ff;}#sk-container-id-2 input.sk-toggleable__control:checked~div.sk-toggleable__content {max-height: 200px;max-width: 100%;overflow: auto;}#sk-container-id-2 input.sk-toggleable__control:checked~label.sk-toggleable__label-arrow:before {content: \"▾\";}#sk-container-id-2 div.sk-estimator input.sk-toggleable__control:checked~label.sk-toggleable__label {background-color: #d4ebff;}#sk-container-id-2 div.sk-label input.sk-toggleable__control:checked~label.sk-toggleable__label {background-color: #d4ebff;}#sk-container-id-2 input.sk-hidden--visually {border: 0;clip: rect(1px 1px 1px 1px);clip: rect(1px, 1px, 1px, 1px);height: 1px;margin: -1px;overflow: hidden;padding: 0;position: absolute;width: 1px;}#sk-container-id-2 div.sk-estimator {font-family: monospace;background-color: #f0f8ff;border: 1px dotted black;border-radius: 0.25em;box-sizing: border-box;margin-bottom: 0.5em;}#sk-container-id-2 div.sk-estimator:hover {background-color: #d4ebff;}#sk-container-id-2 div.sk-parallel-item::after {content: \"\";width: 100%;border-bottom: 1px solid gray;flex-grow: 1;}#sk-container-id-2 div.sk-label:hover label.sk-toggleable__label {background-color: #d4ebff;}#sk-container-id-2 div.sk-serial::before {content: \"\";position: absolute;border-left: 1px solid gray;box-sizing: border-box;top: 0;bottom: 0;left: 50%;z-index: 0;}#sk-container-id-2 div.sk-serial {display: flex;flex-direction: column;align-items: center;background-color: white;padding-right: 0.2em;padding-left: 0.2em;position: relative;}#sk-container-id-2 div.sk-item {position: relative;z-index: 1;}#sk-container-id-2 div.sk-parallel {display: flex;align-items: stretch;justify-content: center;background-color: white;position: relative;}#sk-container-id-2 div.sk-item::before, #sk-container-id-2 div.sk-parallel-item::before {content: \"\";position: absolute;border-left: 1px solid gray;box-sizing: border-box;top: 0;bottom: 0;left: 50%;z-index: -1;}#sk-container-id-2 div.sk-parallel-item {display: flex;flex-direction: column;z-index: 1;position: relative;background-color: white;}#sk-container-id-2 div.sk-parallel-item:first-child::after {align-self: flex-end;width: 50%;}#sk-container-id-2 div.sk-parallel-item:last-child::after {align-self: flex-start;width: 50%;}#sk-container-id-2 div.sk-parallel-item:only-child::after {width: 0;}#sk-container-id-2 div.sk-dashed-wrapped {border: 1px dashed gray;margin: 0 0.4em 0.5em 0.4em;box-sizing: border-box;padding-bottom: 0.4em;background-color: white;}#sk-container-id-2 div.sk-label label {font-family: monospace;font-weight: bold;display: inline-block;line-height: 1.2em;}#sk-container-id-2 div.sk-label-container {text-align: center;}#sk-container-id-2 div.sk-container {/* jupyter's `normalize.less` sets `[hidden] { display: none; }` but bootstrap.min.css set `[hidden] { display: none !important; }` so we also need the `!important` here to be able to override the default hidden behavior on the sphinx rendered scikit-learn.org. See: https://github.com/scikit-learn/scikit-learn/issues/21755 */display: inline-block !important;position: relative;}#sk-container-id-2 div.sk-text-repr-fallback {display: none;}</style><div id=\"sk-container-id-2\" class=\"sk-top-container\"><div class=\"sk-text-repr-fallback\"><pre>RandomForestRegressor(n_estimators=2000, random_state=42)</pre><b>In a Jupyter environment, please rerun this cell to show the HTML representation or trust the notebook. <br />On GitHub, the HTML representation is unable to render, please try loading this page with nbviewer.org.</b></div><div class=\"sk-container\" hidden><div class=\"sk-item\"><div class=\"sk-estimator sk-toggleable\"><input class=\"sk-toggleable__control sk-hidden--visually\" id=\"sk-estimator-id-4\" type=\"checkbox\" checked><label for=\"sk-estimator-id-4\" class=\"sk-toggleable__label sk-toggleable__label-arrow\">RandomForestRegressor</label><div class=\"sk-toggleable__content\"><pre>RandomForestRegressor(n_estimators=2000, random_state=42)</pre></div></div></div></div></div>"
      ],
      "text/plain": [
       "RandomForestRegressor(n_estimators=2000, random_state=42)"
      ]
     },
     "execution_count": 57,
     "metadata": {},
     "output_type": "execute_result"
    }
   ],
   "source": [
    "modelForest.fit(X_train_forest, y_train)"
   ]
  },
  {
   "cell_type": "code",
   "execution_count": 59,
   "id": "54d71859",
   "metadata": {},
   "outputs": [
    {
     "data": {
      "text/plain": [
       "0.20272778402077868"
      ]
     },
     "execution_count": 59,
     "metadata": {},
     "output_type": "execute_result"
    }
   ],
   "source": [
    "mean_squared_error(modelForest.predict(X_test_forest), y_test)**0.5"
   ]
  },
  {
   "cell_type": "markdown",
   "id": "0bae9917",
   "metadata": {},
   "source": [
    "> Результаты случайного леса оказались еще лучше  \n",
    "> Оптимальной глубиной для леса оказалась глубина 10 "
   ]
  },
  {
   "cell_type": "markdown",
   "id": "8d594189",
   "metadata": {},
   "source": [
    "# CatBoost\n",
    "\n",
    "Для catboost не будем делать преобразование, но положим все данные в catboost.Pool, указав какие фичи являются категориальными."
   ]
  },
  {
   "cell_type": "code",
   "execution_count": 35,
   "id": "b0504208",
   "metadata": {},
   "outputs": [
    {
     "name": "stderr",
     "output_type": "stream",
     "text": [
      "C:\\Soft\\Anaconda\\lib\\site-packages\\catboost\\core.py:1135: FutureWarning: iteritems is deprecated and will be removed in a future version. Use .items instead.\n",
      "  self._init_pool(data, label, cat_features, text_features, embedding_features, pairs, weight, group_id, group_weight, subgroup_id, pairs_weight, baseline, feature_names, thread_count)\n"
     ]
    }
   ],
   "source": [
    "cat_feats = list(X_train.select_dtypes('object').columns)\n",
    "train_dataset = Pool(X_train, y_train, cat_features=cat_feats) \n",
    "test_dataset = Pool(X_test, y_test, cat_features=cat_feats) "
   ]
  },
  {
   "cell_type": "code",
   "execution_count": 43,
   "id": "6d343e14",
   "metadata": {},
   "outputs": [],
   "source": [
    "model = CatBoostRegressor(loss_function='RMSE', random_seed=SEED)"
   ]
  },
  {
   "cell_type": "code",
   "execution_count": null,
   "id": "6bffda16",
   "metadata": {},
   "outputs": [],
   "source": [
    "grid = {'iterations': [100, 150, 200],\n",
    "        'learning_rate': [0.03, 0.1],\n",
    "        'depth': [2, 4, 6, 8],\n",
    "        'l2_leaf_reg': [0.2, 0.5, 1, 3]}\n",
    "params, cv_results = model.grid_search(grid, train_dataset, plot=True)"
   ]
  },
  {
   "cell_type": "code",
   "execution_count": 49,
   "id": "c6f496f3",
   "metadata": {},
   "outputs": [
    {
     "data": {
      "text/plain": [
       "0.19433217188573745"
      ]
     },
     "execution_count": 49,
     "metadata": {},
     "output_type": "execute_result"
    }
   ],
   "source": [
    "mean_squared_error(model.predict(test_dataset), y_test)**0.5"
   ]
  },
  {
   "cell_type": "markdown",
   "id": "0022b0d4",
   "metadata": {},
   "source": [
    "> Результат catboost еще лучше чем у RandomForest.  \n",
    "> Но мы его и оптимизировали лучше через gridsearch"
   ]
  },
  {
   "cell_type": "markdown",
   "id": "15c495ac",
   "metadata": {},
   "source": [
    "# NGBoost"
   ]
  },
  {
   "cell_type": "markdown",
   "id": "930363f6",
   "metadata": {},
   "source": [
    "Попробуем модель из вероятностного программирования [NGBoost](https://github.com/stanfordmlgroup/ngboost)  \n",
    "Она может дать нам не только прогноз, но и доверительные интервалы."
   ]
  },
  {
   "cell_type": "code",
   "execution_count": 27,
   "id": "ced76ce3",
   "metadata": {},
   "outputs": [
    {
     "name": "stdout",
     "output_type": "stream",
     "text": [
      "[iter 0] loss=1.1594 val_loss=0.0000 scale=1.0000 norm=0.8395\n",
      "[iter 100] loss=0.4862 val_loss=0.0000 scale=2.0000 norm=1.0239\n",
      "[iter 200] loss=-0.0950 val_loss=0.0000 scale=2.0000 norm=0.8867\n",
      "[iter 300] loss=-0.3472 val_loss=0.0000 scale=2.0000 norm=0.9048\n",
      "[iter 400] loss=-0.4496 val_loss=0.0000 scale=2.0000 norm=0.9209\n",
      "[iter 0] loss=1.1222 val_loss=0.0000 scale=1.0000 norm=0.8207\n",
      "[iter 100] loss=0.3836 val_loss=0.0000 scale=2.0000 norm=0.9872\n",
      "[iter 200] loss=-0.1558 val_loss=0.0000 scale=2.0000 norm=0.8877\n",
      "[iter 300] loss=-0.3747 val_loss=0.0000 scale=2.0000 norm=0.9367\n",
      "[iter 400] loss=-0.4748 val_loss=0.0000 scale=2.0000 norm=0.9584\n",
      "[iter 0] loss=1.1347 val_loss=0.0000 scale=1.0000 norm=0.8284\n",
      "[iter 100] loss=0.4348 val_loss=0.0000 scale=2.0000 norm=1.0125\n",
      "[iter 200] loss=-0.1407 val_loss=0.0000 scale=2.0000 norm=0.8982\n",
      "[iter 300] loss=-0.3873 val_loss=0.0000 scale=2.0000 norm=0.9282\n",
      "[iter 400] loss=-0.4952 val_loss=0.0000 scale=1.0000 norm=0.4752\n",
      "[iter 0] loss=1.1089 val_loss=0.0000 scale=1.0000 norm=0.8175\n",
      "[iter 100] loss=0.4110 val_loss=0.0000 scale=2.0000 norm=1.0042\n",
      "[iter 200] loss=-0.1328 val_loss=0.0000 scale=2.0000 norm=0.8932\n",
      "[iter 300] loss=-0.3543 val_loss=0.0000 scale=1.0000 norm=0.4603\n",
      "[iter 400] loss=-0.4777 val_loss=0.0000 scale=1.0000 norm=0.4696\n",
      "[iter 0] loss=1.1423 val_loss=0.0000 scale=1.0000 norm=0.8333\n",
      "[iter 100] loss=0.4249 val_loss=0.0000 scale=2.0000 norm=1.0060\n",
      "[iter 200] loss=-0.1333 val_loss=0.0000 scale=2.0000 norm=0.8907\n",
      "[iter 300] loss=-0.3845 val_loss=0.0000 scale=2.0000 norm=0.9074\n",
      "[iter 400] loss=-0.5016 val_loss=0.0000 scale=2.0000 norm=0.9357\n",
      "Cross validation RMSE for NGBRegressor(random_state=RandomState(MT19937) at 0x1F06FD32640)\n",
      "\n",
      "[0.21646, 0.26027, 0.23139, 0.19802, 0.22504]\n",
      "\n",
      "Mean RMSE: 0.22624\n"
     ]
    }
   ],
   "source": [
    "score_model(NGBRegressor(Dist=Normal, random_state=SEED), X_train_forest, y_train)"
   ]
  },
  {
   "cell_type": "code",
   "execution_count": 28,
   "id": "6ab2738b",
   "metadata": {},
   "outputs": [],
   "source": [
    "modelNG = NGBRegressor(Dist=Normal, random_state=SEED, n_estimators=2000)"
   ]
  },
  {
   "cell_type": "code",
   "execution_count": 29,
   "id": "e0dbfa88",
   "metadata": {},
   "outputs": [
    {
     "name": "stdout",
     "output_type": "stream",
     "text": [
      "[iter 0] loss=1.1340 val_loss=0.0000 scale=1.0000 norm=0.8280\n",
      "[iter 100] loss=0.4223 val_loss=0.0000 scale=2.0000 norm=1.0061\n",
      "[iter 200] loss=-0.1222 val_loss=0.0000 scale=2.0000 norm=0.8992\n",
      "[iter 300] loss=-0.3541 val_loss=0.0000 scale=1.0000 norm=0.4668\n",
      "[iter 400] loss=-0.4572 val_loss=0.0000 scale=1.0000 norm=0.4784\n",
      "[iter 500] loss=-0.5289 val_loss=0.0000 scale=2.0000 norm=0.9543\n",
      "[iter 600] loss=-0.5722 val_loss=0.0000 scale=1.0000 norm=0.4691\n",
      "[iter 700] loss=-0.6053 val_loss=0.0000 scale=1.0000 norm=0.4628\n",
      "[iter 800] loss=-0.6304 val_loss=0.0000 scale=0.5000 norm=0.2302\n",
      "[iter 900] loss=-0.6414 val_loss=0.0000 scale=0.2500 norm=0.1143\n",
      "[iter 1000] loss=-0.6519 val_loss=0.0000 scale=0.0020 norm=0.0009\n",
      "[iter 1100] loss=-0.6528 val_loss=0.0000 scale=0.0020 norm=0.0009\n",
      "[iter 1200] loss=-0.6551 val_loss=0.0000 scale=0.5000 norm=0.2286\n",
      "[iter 1300] loss=-0.6606 val_loss=0.0000 scale=0.0010 norm=0.0004\n",
      "[iter 1400] loss=-0.6657 val_loss=0.0000 scale=0.0010 norm=0.0004\n",
      "[iter 1500] loss=-0.6666 val_loss=0.0000 scale=0.0010 norm=0.0004\n",
      "[iter 1600] loss=-0.6666 val_loss=0.0000 scale=0.0010 norm=0.0004\n",
      "[iter 1700] loss=-0.6666 val_loss=0.0000 scale=0.0010 norm=0.0004\n",
      "[iter 1800] loss=-0.6726 val_loss=0.0000 scale=0.0020 norm=0.0009\n",
      "[iter 1900] loss=-0.6725 val_loss=0.0000 scale=0.0020 norm=0.0009\n"
     ]
    },
    {
     "data": {
      "text/html": [
       "<style>#sk-container-id-1 {color: black;background-color: white;}#sk-container-id-1 pre{padding: 0;}#sk-container-id-1 div.sk-toggleable {background-color: white;}#sk-container-id-1 label.sk-toggleable__label {cursor: pointer;display: block;width: 100%;margin-bottom: 0;padding: 0.3em;box-sizing: border-box;text-align: center;}#sk-container-id-1 label.sk-toggleable__label-arrow:before {content: \"▸\";float: left;margin-right: 0.25em;color: #696969;}#sk-container-id-1 label.sk-toggleable__label-arrow:hover:before {color: black;}#sk-container-id-1 div.sk-estimator:hover label.sk-toggleable__label-arrow:before {color: black;}#sk-container-id-1 div.sk-toggleable__content {max-height: 0;max-width: 0;overflow: hidden;text-align: left;background-color: #f0f8ff;}#sk-container-id-1 div.sk-toggleable__content pre {margin: 0.2em;color: black;border-radius: 0.25em;background-color: #f0f8ff;}#sk-container-id-1 input.sk-toggleable__control:checked~div.sk-toggleable__content {max-height: 200px;max-width: 100%;overflow: auto;}#sk-container-id-1 input.sk-toggleable__control:checked~label.sk-toggleable__label-arrow:before {content: \"▾\";}#sk-container-id-1 div.sk-estimator input.sk-toggleable__control:checked~label.sk-toggleable__label {background-color: #d4ebff;}#sk-container-id-1 div.sk-label input.sk-toggleable__control:checked~label.sk-toggleable__label {background-color: #d4ebff;}#sk-container-id-1 input.sk-hidden--visually {border: 0;clip: rect(1px 1px 1px 1px);clip: rect(1px, 1px, 1px, 1px);height: 1px;margin: -1px;overflow: hidden;padding: 0;position: absolute;width: 1px;}#sk-container-id-1 div.sk-estimator {font-family: monospace;background-color: #f0f8ff;border: 1px dotted black;border-radius: 0.25em;box-sizing: border-box;margin-bottom: 0.5em;}#sk-container-id-1 div.sk-estimator:hover {background-color: #d4ebff;}#sk-container-id-1 div.sk-parallel-item::after {content: \"\";width: 100%;border-bottom: 1px solid gray;flex-grow: 1;}#sk-container-id-1 div.sk-label:hover label.sk-toggleable__label {background-color: #d4ebff;}#sk-container-id-1 div.sk-serial::before {content: \"\";position: absolute;border-left: 1px solid gray;box-sizing: border-box;top: 0;bottom: 0;left: 50%;z-index: 0;}#sk-container-id-1 div.sk-serial {display: flex;flex-direction: column;align-items: center;background-color: white;padding-right: 0.2em;padding-left: 0.2em;position: relative;}#sk-container-id-1 div.sk-item {position: relative;z-index: 1;}#sk-container-id-1 div.sk-parallel {display: flex;align-items: stretch;justify-content: center;background-color: white;position: relative;}#sk-container-id-1 div.sk-item::before, #sk-container-id-1 div.sk-parallel-item::before {content: \"\";position: absolute;border-left: 1px solid gray;box-sizing: border-box;top: 0;bottom: 0;left: 50%;z-index: -1;}#sk-container-id-1 div.sk-parallel-item {display: flex;flex-direction: column;z-index: 1;position: relative;background-color: white;}#sk-container-id-1 div.sk-parallel-item:first-child::after {align-self: flex-end;width: 50%;}#sk-container-id-1 div.sk-parallel-item:last-child::after {align-self: flex-start;width: 50%;}#sk-container-id-1 div.sk-parallel-item:only-child::after {width: 0;}#sk-container-id-1 div.sk-dashed-wrapped {border: 1px dashed gray;margin: 0 0.4em 0.5em 0.4em;box-sizing: border-box;padding-bottom: 0.4em;background-color: white;}#sk-container-id-1 div.sk-label label {font-family: monospace;font-weight: bold;display: inline-block;line-height: 1.2em;}#sk-container-id-1 div.sk-label-container {text-align: center;}#sk-container-id-1 div.sk-container {/* jupyter's `normalize.less` sets `[hidden] { display: none; }` but bootstrap.min.css set `[hidden] { display: none !important; }` so we also need the `!important` here to be able to override the default hidden behavior on the sphinx rendered scikit-learn.org. See: https://github.com/scikit-learn/scikit-learn/issues/21755 */display: inline-block !important;position: relative;}#sk-container-id-1 div.sk-text-repr-fallback {display: none;}</style><div id=\"sk-container-id-1\" class=\"sk-top-container\"><div class=\"sk-text-repr-fallback\"><pre>NGBRegressor(n_estimators=2000,\n",
       "             random_state=RandomState(MT19937) at 0x1F06FD32D40)</pre><b>In a Jupyter environment, please rerun this cell to show the HTML representation or trust the notebook. <br />On GitHub, the HTML representation is unable to render, please try loading this page with nbviewer.org.</b></div><div class=\"sk-container\" hidden><div class=\"sk-item sk-dashed-wrapped\"><div class=\"sk-label-container\"><div class=\"sk-label sk-toggleable\"><input class=\"sk-toggleable__control sk-hidden--visually\" id=\"sk-estimator-id-1\" type=\"checkbox\" ><label for=\"sk-estimator-id-1\" class=\"sk-toggleable__label sk-toggleable__label-arrow\">NGBRegressor</label><div class=\"sk-toggleable__content\"><pre>NGBRegressor(n_estimators=2000,\n",
       "             random_state=RandomState(MT19937) at 0x1F06FD32D40)</pre></div></div></div><div class=\"sk-parallel\"><div class=\"sk-parallel-item\"><div class=\"sk-item\"><div class=\"sk-label-container\"><div class=\"sk-label sk-toggleable\"><input class=\"sk-toggleable__control sk-hidden--visually\" id=\"sk-estimator-id-2\" type=\"checkbox\" ><label for=\"sk-estimator-id-2\" class=\"sk-toggleable__label sk-toggleable__label-arrow\">Base: DecisionTreeRegressor</label><div class=\"sk-toggleable__content\"><pre>DecisionTreeRegressor(criterion=&#x27;friedman_mse&#x27;, max_depth=3)</pre></div></div></div><div class=\"sk-serial\"><div class=\"sk-item\"><div class=\"sk-estimator sk-toggleable\"><input class=\"sk-toggleable__control sk-hidden--visually\" id=\"sk-estimator-id-3\" type=\"checkbox\" ><label for=\"sk-estimator-id-3\" class=\"sk-toggleable__label sk-toggleable__label-arrow\">DecisionTreeRegressor</label><div class=\"sk-toggleable__content\"><pre>DecisionTreeRegressor(criterion=&#x27;friedman_mse&#x27;, max_depth=3)</pre></div></div></div></div></div></div></div></div></div></div>"
      ],
      "text/plain": [
       "NGBRegressor(n_estimators=2000,\n",
       "             random_state=RandomState(MT19937) at 0x1F06FD32D40)"
      ]
     },
     "execution_count": 29,
     "metadata": {},
     "output_type": "execute_result"
    }
   ],
   "source": [
    "modelNG.fit(X_train_forest, y_train)"
   ]
  },
  {
   "cell_type": "code",
   "execution_count": 30,
   "id": "efa1102e",
   "metadata": {},
   "outputs": [
    {
     "data": {
      "text/plain": [
       "0.20559921257563266"
      ]
     },
     "execution_count": 30,
     "metadata": {},
     "output_type": "execute_result"
    }
   ],
   "source": [
    "mean_squared_error(modelNG.predict(X_test_forest), y_test)**0.5"
   ]
  },
  {
   "cell_type": "markdown",
   "id": "cfa8bb78",
   "metadata": {},
   "source": [
    "> Модель NG boost рабоает хуже catboost и чуть-чуть хуже случайного леса  \n",
    "> Но у нее есть возможность предсказывать доверительные интевалы, и давайте воспользуемся этой возможностью"
   ]
  },
  {
   "cell_type": "code",
   "execution_count": 60,
   "id": "ddd23a7c",
   "metadata": {},
   "outputs": [],
   "source": [
    "preds = modelNG.pred_param(X_test_forest)"
   ]
  },
  {
   "cell_type": "code",
   "execution_count": 61,
   "id": "98fe1a5d",
   "metadata": {},
   "outputs": [],
   "source": [
    "def get_ci(preds, ci_level=0.95):\n",
    "    lower_bound = (1-ci_level)/2\n",
    "    z_score = norm.ppf(lower_bound)\n",
    "    \n",
    "    mean = preds[:,0]\n",
    "    lower = preds[:,0] + z_score * np.exp(preds[:,1])\n",
    "    upper = preds[:,0] - z_score * np.exp(preds[:,1])\n",
    "    \n",
    "    return np.c_[mean, lower, upper]\n",
    "    "
   ]
  },
  {
   "cell_type": "code",
   "execution_count": 77,
   "id": "2dcf78fe",
   "metadata": {},
   "outputs": [],
   "source": [
    "preds_with_ci = get_ci(preds)\n",
    "plot_data = np.round(np.expm1(np.c_[y_test, preds_with_ci]), -2)\n",
    "result_ngboost = pd.DataFrame(plot_data, columns=[\"y\", \"pred\", \"lower95\", \"upper95\"])"
   ]
  },
  {
   "cell_type": "code",
   "execution_count": 78,
   "id": "b67d9a52",
   "metadata": {},
   "outputs": [
    {
     "data": {
      "text/html": [
       "<div>\n",
       "<style scoped>\n",
       "    .dataframe tbody tr th:only-of-type {\n",
       "        vertical-align: middle;\n",
       "    }\n",
       "\n",
       "    .dataframe tbody tr th {\n",
       "        vertical-align: top;\n",
       "    }\n",
       "\n",
       "    .dataframe thead th {\n",
       "        text-align: right;\n",
       "    }\n",
       "</style>\n",
       "<table border=\"1\" class=\"dataframe\">\n",
       "  <thead>\n",
       "    <tr style=\"text-align: right;\">\n",
       "      <th></th>\n",
       "      <th>y</th>\n",
       "      <th>pred</th>\n",
       "      <th>lower95</th>\n",
       "      <th>upper95</th>\n",
       "    </tr>\n",
       "  </thead>\n",
       "  <tbody>\n",
       "    <tr>\n",
       "      <th>0</th>\n",
       "      <td>160000.0</td>\n",
       "      <td>126200.0</td>\n",
       "      <td>93900.0</td>\n",
       "      <td>169700.0</td>\n",
       "    </tr>\n",
       "    <tr>\n",
       "      <th>1</th>\n",
       "      <td>50000.0</td>\n",
       "      <td>40500.0</td>\n",
       "      <td>30500.0</td>\n",
       "      <td>53600.0</td>\n",
       "    </tr>\n",
       "    <tr>\n",
       "      <th>2</th>\n",
       "      <td>170000.0</td>\n",
       "      <td>140400.0</td>\n",
       "      <td>104600.0</td>\n",
       "      <td>188600.0</td>\n",
       "    </tr>\n",
       "    <tr>\n",
       "      <th>3</th>\n",
       "      <td>30000.0</td>\n",
       "      <td>30000.0</td>\n",
       "      <td>21700.0</td>\n",
       "      <td>41600.0</td>\n",
       "    </tr>\n",
       "    <tr>\n",
       "      <th>4</th>\n",
       "      <td>300000.0</td>\n",
       "      <td>258500.0</td>\n",
       "      <td>214800.0</td>\n",
       "      <td>311000.0</td>\n",
       "    </tr>\n",
       "    <tr>\n",
       "      <th>...</th>\n",
       "      <td>...</td>\n",
       "      <td>...</td>\n",
       "      <td>...</td>\n",
       "      <td>...</td>\n",
       "    </tr>\n",
       "    <tr>\n",
       "      <th>229</th>\n",
       "      <td>185000.0</td>\n",
       "      <td>196800.0</td>\n",
       "      <td>149000.0</td>\n",
       "      <td>259900.0</td>\n",
       "    </tr>\n",
       "    <tr>\n",
       "      <th>230</th>\n",
       "      <td>60000.0</td>\n",
       "      <td>64200.0</td>\n",
       "      <td>48000.0</td>\n",
       "      <td>85900.0</td>\n",
       "    </tr>\n",
       "    <tr>\n",
       "      <th>231</th>\n",
       "      <td>120000.0</td>\n",
       "      <td>94700.0</td>\n",
       "      <td>68800.0</td>\n",
       "      <td>130300.0</td>\n",
       "    </tr>\n",
       "    <tr>\n",
       "      <th>232</th>\n",
       "      <td>75000.0</td>\n",
       "      <td>94100.0</td>\n",
       "      <td>69700.0</td>\n",
       "      <td>127100.0</td>\n",
       "    </tr>\n",
       "    <tr>\n",
       "      <th>233</th>\n",
       "      <td>135000.0</td>\n",
       "      <td>124100.0</td>\n",
       "      <td>107600.0</td>\n",
       "      <td>143100.0</td>\n",
       "    </tr>\n",
       "  </tbody>\n",
       "</table>\n",
       "<p>234 rows × 4 columns</p>\n",
       "</div>"
      ],
      "text/plain": [
       "            y      pred   lower95   upper95\n",
       "0    160000.0  126200.0   93900.0  169700.0\n",
       "1     50000.0   40500.0   30500.0   53600.0\n",
       "2    170000.0  140400.0  104600.0  188600.0\n",
       "3     30000.0   30000.0   21700.0   41600.0\n",
       "4    300000.0  258500.0  214800.0  311000.0\n",
       "..        ...       ...       ...       ...\n",
       "229  185000.0  196800.0  149000.0  259900.0\n",
       "230   60000.0   64200.0   48000.0   85900.0\n",
       "231  120000.0   94700.0   68800.0  130300.0\n",
       "232   75000.0   94100.0   69700.0  127100.0\n",
       "233  135000.0  124100.0  107600.0  143100.0\n",
       "\n",
       "[234 rows x 4 columns]"
      ]
     },
     "execution_count": 78,
     "metadata": {},
     "output_type": "execute_result"
    }
   ],
   "source": [
    "result_ngboost"
   ]
  },
  {
   "cell_type": "code",
   "execution_count": 86,
   "id": "f85571c0",
   "metadata": {},
   "outputs": [],
   "source": [
    "y_in_CI_rate = np.mean((result_ngboost.y > result_ngboost.lower95) & (result_ngboost.y < result_ngboost.upper95))"
   ]
  },
  {
   "cell_type": "code",
   "execution_count": 91,
   "id": "a56f155d",
   "metadata": {},
   "outputs": [
    {
     "name": "stdout",
     "output_type": "stream",
     "text": [
      "Значение y попадает в 95% доверительные интервал в 89%\n"
     ]
    }
   ],
   "source": [
    "print(f\"Значение y попадает в 95% доверительные интервал в {y_in_CI_rate*100:.0f}%\")"
   ]
  },
  {
   "cell_type": "markdown",
   "id": "62e2f256",
   "metadata": {},
   "source": [
    "> Мы видем, что даже доверительные интервалы предсказаны неплохо, и target в них хорошо попадает  \n",
    "> Наверное это неплохо"
   ]
  },
  {
   "cell_type": "code",
   "execution_count": null,
   "id": "c0922020",
   "metadata": {},
   "outputs": [],
   "source": []
  }
 ],
 "metadata": {
  "kernelspec": {
   "display_name": "Python 3 (ipykernel)",
   "language": "python",
   "name": "python3"
  },
  "language_info": {
   "codemirror_mode": {
    "name": "ipython",
    "version": 3
   },
   "file_extension": ".py",
   "mimetype": "text/x-python",
   "name": "python",
   "nbconvert_exporter": "python",
   "pygments_lexer": "ipython3",
   "version": "3.9.7"
  }
 },
 "nbformat": 4,
 "nbformat_minor": 5
}
