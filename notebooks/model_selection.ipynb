{
 "cells": [
  {
   "cell_type": "code",
   "execution_count": 1,
   "id": "dd66fb90",
   "metadata": {},
   "outputs": [],
   "source": [
    "import pandas as pd\n",
    "import numpy as np\n",
    "\n",
    "from sklearn.preprocessing import StandardScaler\n",
    "from sklearn.feature_extraction import DictVectorizer\n",
    "from sklearn.model_selection import train_test_split\n",
    "\n",
    "from sklearn.linear_model import Ridge\n",
    "from sklearn.ensemble import RandomForestRegressor\n",
    "\n",
    "from sklearn.metrics import mean_squared_error"
   ]
  },
  {
   "cell_type": "code",
   "execution_count": 2,
   "id": "917d23ed",
   "metadata": {},
   "outputs": [],
   "source": [
    "df = pd.read_parquet(\"clean_data.v1.parquet\")"
   ]
  },
  {
   "cell_type": "code",
   "execution_count": 3,
   "id": "3ffe29e4",
   "metadata": {},
   "outputs": [
    {
     "name": "stdout",
     "output_type": "stream",
     "text": [
      "<class 'pandas.core.frame.DataFrame'>\n",
      "Int64Index: 933 entries, 30062056 to 4129209\n",
      "Data columns (total 17 columns):\n",
      " #   Column                                       Non-Null Count  Dtype  \n",
      "---  ------                                       --------------  -----  \n",
      " 0   Процессор_Количество ядер                    933 non-null    float64\n",
      " 1   Корпус_Материал корпуса_металл               930 non-null    object \n",
      " 2   Заводские данные_Страна                      933 non-null    object \n",
      " 3   Видеокарта_Графический контроллер_crop       933 non-null    object \n",
      " 4   brand_name                                   933 non-null    object \n",
      " 5   Заводские данные_Гарантия                    933 non-null    object \n",
      " 6   Оперативная память_Оперативная память (RAM)  933 non-null    int64  \n",
      " 7   Видеокарта_Производитель видеопроцессора     823 non-null    object \n",
      " 8   Операционная система_Операционная система    919 non-null    object \n",
      " 9   Корпус_Материал корпуса_пластик              930 non-null    object \n",
      " 10  Безопасность_Датчик отпечатков пальцев_crop  933 non-null    bool   \n",
      " 11  Процессор_Процессор_crop                     933 non-null    object \n",
      " 12  Экран_Диагональ экрана_num                   933 non-null    float64\n",
      " 13  Жесткий диск_Объем SSD_num                   933 non-null    int64  \n",
      " 14  Оперативная память_Частота памяти            740 non-null    float64\n",
      " 15  Экран_Частота обновления                     538 non-null    float64\n",
      " 16  basePrice                                    933 non-null    int64  \n",
      "dtypes: bool(1), float64(4), int64(3), object(9)\n",
      "memory usage: 124.8+ KB\n"
     ]
    }
   ],
   "source": [
    "df.info()"
   ]
  },
  {
   "cell_type": "code",
   "execution_count": 4,
   "id": "6e13b12b",
   "metadata": {},
   "outputs": [
    {
     "data": {
      "text/plain": [
       "30062056        Intel Core\n",
       "30065211        Intel Core\n",
       "30056687        Intel Core\n",
       "30064594          Apple M2\n",
       "30061606        Intel Core\n",
       "                 ...      \n",
       "400027919         Apple M2\n",
       "4183550      Intel Celeron\n",
       "400027896         Apple M1\n",
       "400029644         Apple M1\n",
       "4129209      Intel Celeron\n",
       "Name: Процессор_Процессор_crop, Length: 933, dtype: object"
      ]
     },
     "execution_count": 4,
     "metadata": {},
     "output_type": "execute_result"
    }
   ],
   "source": [
    "df[\"Процессор_Процессор_crop\"]"
   ]
  },
  {
   "cell_type": "markdown",
   "id": "bd0c8b93",
   "metadata": {},
   "source": [
    "# Заполним пропущенные значения"
   ]
  },
  {
   "cell_type": "code",
   "execution_count": 5,
   "id": "93063739",
   "metadata": {},
   "outputs": [
    {
     "data": {
      "text/plain": [
       "3200.0    328\n",
       "2400.0    130\n",
       "2666.0     78\n",
       "2133.0     51\n",
       "2933.0     36\n",
       "1600.0     30\n",
       "4266.0     30\n",
       "4267.0     14\n",
       "1333.0     11\n",
       "1866.0     11\n",
       "3733.0     10\n",
       "4800.0      5\n",
       "5200.0      4\n",
       "3600.0      1\n",
       "3.0         1\n",
       "Name: Оперативная память_Частота памяти, dtype: int64"
      ]
     },
     "execution_count": 5,
     "metadata": {},
     "output_type": "execute_result"
    }
   ],
   "source": [
    "df[\"Оперативная память_Частота памяти\"].value_counts()"
   ]
  },
  {
   "cell_type": "code",
   "execution_count": 6,
   "id": "2c26e7ef",
   "metadata": {},
   "outputs": [],
   "source": [
    "df[\"Оперативная память_Частота памяти\"].fillna(3200, inplace=True)"
   ]
  },
  {
   "cell_type": "code",
   "execution_count": 7,
   "id": "826c6a68",
   "metadata": {},
   "outputs": [
    {
     "data": {
      "text/plain": [
       "60.0     363\n",
       "144.0     73\n",
       "120.0     59\n",
       "165.0     17\n",
       "90.0      13\n",
       "50.0       5\n",
       "240.0      4\n",
       "300.0      3\n",
       "360.0      1\n",
       "Name: Экран_Частота обновления, dtype: int64"
      ]
     },
     "execution_count": 7,
     "metadata": {},
     "output_type": "execute_result"
    }
   ],
   "source": [
    "df[\"Экран_Частота обновления\"].value_counts()"
   ]
  },
  {
   "cell_type": "code",
   "execution_count": 8,
   "id": "f9014e45",
   "metadata": {},
   "outputs": [],
   "source": [
    "df[\"Экран_Частота обновления\"].fillna(60, inplace=True)\n"
   ]
  },
  {
   "cell_type": "code",
   "execution_count": 9,
   "id": "9679e0f6",
   "metadata": {},
   "outputs": [],
   "source": [
    "df.fillna(\"unkonwn\", inplace=True)"
   ]
  },
  {
   "cell_type": "markdown",
   "id": "1eaa4541",
   "metadata": {},
   "source": [
    "# Выделим train & test наборы"
   ]
  },
  {
   "cell_type": "code",
   "execution_count": 10,
   "id": "8781166a",
   "metadata": {},
   "outputs": [],
   "source": [
    "df_train, df_test = train_test_split(df, random_state=42, test_size=0.2)"
   ]
  },
  {
   "cell_type": "code",
   "execution_count": 11,
   "id": "9d37fbf3",
   "metadata": {},
   "outputs": [],
   "source": [
    "y_train = df_train.basePrice\n",
    "y_test = df_test.basePrice\n",
    "df_train.drop(\"basePrice\", axis=1, inplace=True)\n",
    "df_test.drop(\"basePrice\", axis=1, inplace=True)"
   ]
  },
  {
   "cell_type": "markdown",
   "id": "f908c8cb",
   "metadata": {},
   "source": [
    "# Масштабируем числовые переменные"
   ]
  },
  {
   "cell_type": "code",
   "execution_count": 12,
   "id": "80a91a23",
   "metadata": {},
   "outputs": [],
   "source": [
    "numerical = df_train.select_dtypes(include=[int, float]).columns.tolist()"
   ]
  },
  {
   "cell_type": "code",
   "execution_count": 13,
   "id": "709ed19f",
   "metadata": {},
   "outputs": [],
   "source": [
    "scaler = StandardScaler()"
   ]
  },
  {
   "cell_type": "code",
   "execution_count": 14,
   "id": "7d31baa0",
   "metadata": {},
   "outputs": [],
   "source": [
    "df_train[numerical] = scaler.fit_transform(df_train[numerical])"
   ]
  },
  {
   "cell_type": "code",
   "execution_count": 15,
   "id": "e0d1ad0a",
   "metadata": {},
   "outputs": [],
   "source": [
    "df_test[numerical] = scaler.transform(df_test[numerical])"
   ]
  },
  {
   "cell_type": "markdown",
   "id": "dbb46cc1",
   "metadata": {},
   "source": [
    "# Преобразуем категориальные фичи"
   ]
  },
  {
   "cell_type": "code",
   "execution_count": 16,
   "id": "b5d0f797",
   "metadata": {},
   "outputs": [],
   "source": [
    "dv = DictVectorizer()"
   ]
  },
  {
   "cell_type": "code",
   "execution_count": 17,
   "id": "5a8ed094",
   "metadata": {},
   "outputs": [],
   "source": [
    "X_train = dv.fit_transform(df_train.to_dict(orient=\"records\"))\n",
    "X_test = dv.transform(df_test.to_dict(orient=\"records\"))"
   ]
  },
  {
   "cell_type": "markdown",
   "id": "1631b089",
   "metadata": {},
   "source": [
    "# Попробуем разные модели"
   ]
  },
  {
   "cell_type": "code",
   "execution_count": 18,
   "id": "bbe641f0",
   "metadata": {},
   "outputs": [],
   "source": [
    "model_linear = Ridge()"
   ]
  },
  {
   "cell_type": "code",
   "execution_count": 19,
   "id": "9d966e18",
   "metadata": {},
   "outputs": [
    {
     "data": {
      "text/html": [
       "<style>#sk-container-id-1 {color: black;background-color: white;}#sk-container-id-1 pre{padding: 0;}#sk-container-id-1 div.sk-toggleable {background-color: white;}#sk-container-id-1 label.sk-toggleable__label {cursor: pointer;display: block;width: 100%;margin-bottom: 0;padding: 0.3em;box-sizing: border-box;text-align: center;}#sk-container-id-1 label.sk-toggleable__label-arrow:before {content: \"▸\";float: left;margin-right: 0.25em;color: #696969;}#sk-container-id-1 label.sk-toggleable__label-arrow:hover:before {color: black;}#sk-container-id-1 div.sk-estimator:hover label.sk-toggleable__label-arrow:before {color: black;}#sk-container-id-1 div.sk-toggleable__content {max-height: 0;max-width: 0;overflow: hidden;text-align: left;background-color: #f0f8ff;}#sk-container-id-1 div.sk-toggleable__content pre {margin: 0.2em;color: black;border-radius: 0.25em;background-color: #f0f8ff;}#sk-container-id-1 input.sk-toggleable__control:checked~div.sk-toggleable__content {max-height: 200px;max-width: 100%;overflow: auto;}#sk-container-id-1 input.sk-toggleable__control:checked~label.sk-toggleable__label-arrow:before {content: \"▾\";}#sk-container-id-1 div.sk-estimator input.sk-toggleable__control:checked~label.sk-toggleable__label {background-color: #d4ebff;}#sk-container-id-1 div.sk-label input.sk-toggleable__control:checked~label.sk-toggleable__label {background-color: #d4ebff;}#sk-container-id-1 input.sk-hidden--visually {border: 0;clip: rect(1px 1px 1px 1px);clip: rect(1px, 1px, 1px, 1px);height: 1px;margin: -1px;overflow: hidden;padding: 0;position: absolute;width: 1px;}#sk-container-id-1 div.sk-estimator {font-family: monospace;background-color: #f0f8ff;border: 1px dotted black;border-radius: 0.25em;box-sizing: border-box;margin-bottom: 0.5em;}#sk-container-id-1 div.sk-estimator:hover {background-color: #d4ebff;}#sk-container-id-1 div.sk-parallel-item::after {content: \"\";width: 100%;border-bottom: 1px solid gray;flex-grow: 1;}#sk-container-id-1 div.sk-label:hover label.sk-toggleable__label {background-color: #d4ebff;}#sk-container-id-1 div.sk-serial::before {content: \"\";position: absolute;border-left: 1px solid gray;box-sizing: border-box;top: 0;bottom: 0;left: 50%;z-index: 0;}#sk-container-id-1 div.sk-serial {display: flex;flex-direction: column;align-items: center;background-color: white;padding-right: 0.2em;padding-left: 0.2em;position: relative;}#sk-container-id-1 div.sk-item {position: relative;z-index: 1;}#sk-container-id-1 div.sk-parallel {display: flex;align-items: stretch;justify-content: center;background-color: white;position: relative;}#sk-container-id-1 div.sk-item::before, #sk-container-id-1 div.sk-parallel-item::before {content: \"\";position: absolute;border-left: 1px solid gray;box-sizing: border-box;top: 0;bottom: 0;left: 50%;z-index: -1;}#sk-container-id-1 div.sk-parallel-item {display: flex;flex-direction: column;z-index: 1;position: relative;background-color: white;}#sk-container-id-1 div.sk-parallel-item:first-child::after {align-self: flex-end;width: 50%;}#sk-container-id-1 div.sk-parallel-item:last-child::after {align-self: flex-start;width: 50%;}#sk-container-id-1 div.sk-parallel-item:only-child::after {width: 0;}#sk-container-id-1 div.sk-dashed-wrapped {border: 1px dashed gray;margin: 0 0.4em 0.5em 0.4em;box-sizing: border-box;padding-bottom: 0.4em;background-color: white;}#sk-container-id-1 div.sk-label label {font-family: monospace;font-weight: bold;display: inline-block;line-height: 1.2em;}#sk-container-id-1 div.sk-label-container {text-align: center;}#sk-container-id-1 div.sk-container {/* jupyter's `normalize.less` sets `[hidden] { display: none; }` but bootstrap.min.css set `[hidden] { display: none !important; }` so we also need the `!important` here to be able to override the default hidden behavior on the sphinx rendered scikit-learn.org. See: https://github.com/scikit-learn/scikit-learn/issues/21755 */display: inline-block !important;position: relative;}#sk-container-id-1 div.sk-text-repr-fallback {display: none;}</style><div id=\"sk-container-id-1\" class=\"sk-top-container\"><div class=\"sk-text-repr-fallback\"><pre>Ridge()</pre><b>In a Jupyter environment, please rerun this cell to show the HTML representation or trust the notebook. <br />On GitHub, the HTML representation is unable to render, please try loading this page with nbviewer.org.</b></div><div class=\"sk-container\" hidden><div class=\"sk-item\"><div class=\"sk-estimator sk-toggleable\"><input class=\"sk-toggleable__control sk-hidden--visually\" id=\"sk-estimator-id-1\" type=\"checkbox\" checked><label for=\"sk-estimator-id-1\" class=\"sk-toggleable__label sk-toggleable__label-arrow\">Ridge</label><div class=\"sk-toggleable__content\"><pre>Ridge()</pre></div></div></div></div></div>"
      ],
      "text/plain": [
       "Ridge()"
      ]
     },
     "execution_count": 19,
     "metadata": {},
     "output_type": "execute_result"
    }
   ],
   "source": [
    "model_linear.fit(X_train, y_train)"
   ]
  },
  {
   "cell_type": "code",
   "execution_count": 20,
   "id": "ce9cc27b",
   "metadata": {},
   "outputs": [
    {
     "name": "stdout",
     "output_type": "stream",
     "text": [
      "RMSE train = 20850.775954682038\n",
      "RMSE test  = 34256.083829462186\n"
     ]
    }
   ],
   "source": [
    "y_pred_train = model_linear.predict(X_train)\n",
    "y_pred_test = model_linear.predict(X_test)\n",
    "\n",
    "print(f\"RMSE train = {mean_squared_error(y_train, y_pred_train) ** 0.5}\")\n",
    "print(f\"RMSE test  = {mean_squared_error(y_test, y_pred_test) ** 0.5}\")"
   ]
  },
  {
   "cell_type": "markdown",
   "id": "44f6b159",
   "metadata": {},
   "source": [
    "# Случайный лес"
   ]
  },
  {
   "cell_type": "code",
   "execution_count": 21,
   "id": "1022cea5",
   "metadata": {},
   "outputs": [],
   "source": [
    "model_forest = RandomForestRegressor(n_estimators=200, random_state=42)"
   ]
  },
  {
   "cell_type": "code",
   "execution_count": 22,
   "id": "312a06ff",
   "metadata": {},
   "outputs": [
    {
     "data": {
      "text/html": [
       "<style>#sk-container-id-2 {color: black;background-color: white;}#sk-container-id-2 pre{padding: 0;}#sk-container-id-2 div.sk-toggleable {background-color: white;}#sk-container-id-2 label.sk-toggleable__label {cursor: pointer;display: block;width: 100%;margin-bottom: 0;padding: 0.3em;box-sizing: border-box;text-align: center;}#sk-container-id-2 label.sk-toggleable__label-arrow:before {content: \"▸\";float: left;margin-right: 0.25em;color: #696969;}#sk-container-id-2 label.sk-toggleable__label-arrow:hover:before {color: black;}#sk-container-id-2 div.sk-estimator:hover label.sk-toggleable__label-arrow:before {color: black;}#sk-container-id-2 div.sk-toggleable__content {max-height: 0;max-width: 0;overflow: hidden;text-align: left;background-color: #f0f8ff;}#sk-container-id-2 div.sk-toggleable__content pre {margin: 0.2em;color: black;border-radius: 0.25em;background-color: #f0f8ff;}#sk-container-id-2 input.sk-toggleable__control:checked~div.sk-toggleable__content {max-height: 200px;max-width: 100%;overflow: auto;}#sk-container-id-2 input.sk-toggleable__control:checked~label.sk-toggleable__label-arrow:before {content: \"▾\";}#sk-container-id-2 div.sk-estimator input.sk-toggleable__control:checked~label.sk-toggleable__label {background-color: #d4ebff;}#sk-container-id-2 div.sk-label input.sk-toggleable__control:checked~label.sk-toggleable__label {background-color: #d4ebff;}#sk-container-id-2 input.sk-hidden--visually {border: 0;clip: rect(1px 1px 1px 1px);clip: rect(1px, 1px, 1px, 1px);height: 1px;margin: -1px;overflow: hidden;padding: 0;position: absolute;width: 1px;}#sk-container-id-2 div.sk-estimator {font-family: monospace;background-color: #f0f8ff;border: 1px dotted black;border-radius: 0.25em;box-sizing: border-box;margin-bottom: 0.5em;}#sk-container-id-2 div.sk-estimator:hover {background-color: #d4ebff;}#sk-container-id-2 div.sk-parallel-item::after {content: \"\";width: 100%;border-bottom: 1px solid gray;flex-grow: 1;}#sk-container-id-2 div.sk-label:hover label.sk-toggleable__label {background-color: #d4ebff;}#sk-container-id-2 div.sk-serial::before {content: \"\";position: absolute;border-left: 1px solid gray;box-sizing: border-box;top: 0;bottom: 0;left: 50%;z-index: 0;}#sk-container-id-2 div.sk-serial {display: flex;flex-direction: column;align-items: center;background-color: white;padding-right: 0.2em;padding-left: 0.2em;position: relative;}#sk-container-id-2 div.sk-item {position: relative;z-index: 1;}#sk-container-id-2 div.sk-parallel {display: flex;align-items: stretch;justify-content: center;background-color: white;position: relative;}#sk-container-id-2 div.sk-item::before, #sk-container-id-2 div.sk-parallel-item::before {content: \"\";position: absolute;border-left: 1px solid gray;box-sizing: border-box;top: 0;bottom: 0;left: 50%;z-index: -1;}#sk-container-id-2 div.sk-parallel-item {display: flex;flex-direction: column;z-index: 1;position: relative;background-color: white;}#sk-container-id-2 div.sk-parallel-item:first-child::after {align-self: flex-end;width: 50%;}#sk-container-id-2 div.sk-parallel-item:last-child::after {align-self: flex-start;width: 50%;}#sk-container-id-2 div.sk-parallel-item:only-child::after {width: 0;}#sk-container-id-2 div.sk-dashed-wrapped {border: 1px dashed gray;margin: 0 0.4em 0.5em 0.4em;box-sizing: border-box;padding-bottom: 0.4em;background-color: white;}#sk-container-id-2 div.sk-label label {font-family: monospace;font-weight: bold;display: inline-block;line-height: 1.2em;}#sk-container-id-2 div.sk-label-container {text-align: center;}#sk-container-id-2 div.sk-container {/* jupyter's `normalize.less` sets `[hidden] { display: none; }` but bootstrap.min.css set `[hidden] { display: none !important; }` so we also need the `!important` here to be able to override the default hidden behavior on the sphinx rendered scikit-learn.org. See: https://github.com/scikit-learn/scikit-learn/issues/21755 */display: inline-block !important;position: relative;}#sk-container-id-2 div.sk-text-repr-fallback {display: none;}</style><div id=\"sk-container-id-2\" class=\"sk-top-container\"><div class=\"sk-text-repr-fallback\"><pre>RandomForestRegressor(n_estimators=200, random_state=42)</pre><b>In a Jupyter environment, please rerun this cell to show the HTML representation or trust the notebook. <br />On GitHub, the HTML representation is unable to render, please try loading this page with nbviewer.org.</b></div><div class=\"sk-container\" hidden><div class=\"sk-item\"><div class=\"sk-estimator sk-toggleable\"><input class=\"sk-toggleable__control sk-hidden--visually\" id=\"sk-estimator-id-2\" type=\"checkbox\" checked><label for=\"sk-estimator-id-2\" class=\"sk-toggleable__label sk-toggleable__label-arrow\">RandomForestRegressor</label><div class=\"sk-toggleable__content\"><pre>RandomForestRegressor(n_estimators=200, random_state=42)</pre></div></div></div></div></div>"
      ],
      "text/plain": [
       "RandomForestRegressor(n_estimators=200, random_state=42)"
      ]
     },
     "execution_count": 22,
     "metadata": {},
     "output_type": "execute_result"
    }
   ],
   "source": [
    "model_forest.fit(X_train, y_train)"
   ]
  },
  {
   "cell_type": "code",
   "execution_count": 23,
   "id": "00980bb4",
   "metadata": {},
   "outputs": [
    {
     "name": "stdout",
     "output_type": "stream",
     "text": [
      "RMSE train = 10482.209145257875\n",
      "RMSE test  = 31492.82345230372\n"
     ]
    }
   ],
   "source": [
    "y_pred_train = model_forest.predict(X_train)\n",
    "y_pred_test = model_forest.predict(X_test)\n",
    "\n",
    "print(f\"RMSE train = {mean_squared_error(y_train, y_pred_train) ** 0.5}\")\n",
    "print(f\"RMSE test  = {mean_squared_error(y_test, y_pred_test) ** 0.5}\")"
   ]
  },
  {
   "cell_type": "code",
   "execution_count": null,
   "id": "cf56c9e7",
   "metadata": {},
   "outputs": [],
   "source": []
  },
  {
   "cell_type": "markdown",
   "id": "086ed827",
   "metadata": {},
   "source": [
    "# Посмотрим что нам предсказывает модель"
   ]
  },
  {
   "cell_type": "code",
   "execution_count": 24,
   "id": "3813e30a",
   "metadata": {},
   "outputs": [
    {
     "data": {
      "text/html": [
       "<div>\n",
       "<style scoped>\n",
       "    .dataframe tbody tr th:only-of-type {\n",
       "        vertical-align: middle;\n",
       "    }\n",
       "\n",
       "    .dataframe tbody tr th {\n",
       "        vertical-align: top;\n",
       "    }\n",
       "\n",
       "    .dataframe thead th {\n",
       "        text-align: right;\n",
       "    }\n",
       "</style>\n",
       "<table border=\"1\" class=\"dataframe\">\n",
       "  <thead>\n",
       "    <tr style=\"text-align: right;\">\n",
       "      <th></th>\n",
       "      <th>Процессор_Количество ядер</th>\n",
       "      <th>Корпус_Материал корпуса_металл</th>\n",
       "      <th>Заводские данные_Страна</th>\n",
       "      <th>Видеокарта_Графический контроллер_crop</th>\n",
       "      <th>brand_name</th>\n",
       "      <th>Заводские данные_Гарантия</th>\n",
       "      <th>Оперативная память_Оперативная память (RAM)</th>\n",
       "      <th>Видеокарта_Производитель видеопроцессора</th>\n",
       "      <th>Операционная система_Операционная система</th>\n",
       "      <th>Корпус_Материал корпуса_пластик</th>\n",
       "      <th>Безопасность_Датчик отпечатков пальцев_crop</th>\n",
       "      <th>Процессор_Процессор_crop</th>\n",
       "      <th>Экран_Диагональ экрана_num</th>\n",
       "      <th>Жесткий диск_Объем SSD_num</th>\n",
       "      <th>Оперативная память_Частота памяти</th>\n",
       "      <th>Экран_Частота обновления</th>\n",
       "      <th>basePrice</th>\n",
       "    </tr>\n",
       "  </thead>\n",
       "  <tbody>\n",
       "    <tr>\n",
       "      <th>30064639</th>\n",
       "      <td>6.0</td>\n",
       "      <td>False</td>\n",
       "      <td>Китай</td>\n",
       "      <td>GeForce RTX</td>\n",
       "      <td>ASUS</td>\n",
       "      <td>1 год</td>\n",
       "      <td>16</td>\n",
       "      <td>NVIDIA</td>\n",
       "      <td>не установлена</td>\n",
       "      <td>True</td>\n",
       "      <td>False</td>\n",
       "      <td>Intel Core</td>\n",
       "      <td>15.6</td>\n",
       "      <td>512</td>\n",
       "      <td>3200.0</td>\n",
       "      <td>144.0</td>\n",
       "      <td>89999</td>\n",
       "    </tr>\n",
       "    <tr>\n",
       "      <th>30065213</th>\n",
       "      <td>8.0</td>\n",
       "      <td>True</td>\n",
       "      <td>Китай</td>\n",
       "      <td>GeForce RTX</td>\n",
       "      <td>Thunderobot</td>\n",
       "      <td>1 год</td>\n",
       "      <td>16</td>\n",
       "      <td>NVIDIA</td>\n",
       "      <td>Windows 11 Pro 64</td>\n",
       "      <td>True</td>\n",
       "      <td>False</td>\n",
       "      <td>AMD Ryzen</td>\n",
       "      <td>15.6</td>\n",
       "      <td>512</td>\n",
       "      <td>3200.0</td>\n",
       "      <td>144.0</td>\n",
       "      <td>149999</td>\n",
       "    </tr>\n",
       "  </tbody>\n",
       "</table>\n",
       "</div>"
      ],
      "text/plain": [
       "          Процессор_Количество ядер Корпус_Материал корпуса_металл  \\\n",
       "30064639                        6.0                          False   \n",
       "30065213                        8.0                           True   \n",
       "\n",
       "         Заводские данные_Страна Видеокарта_Графический контроллер_crop  \\\n",
       "30064639                   Китай                            GeForce RTX   \n",
       "30065213                   Китай                            GeForce RTX   \n",
       "\n",
       "           brand_name Заводские данные_Гарантия  \\\n",
       "30064639         ASUS                     1 год   \n",
       "30065213  Thunderobot                     1 год   \n",
       "\n",
       "          Оперативная память_Оперативная память (RAM)  \\\n",
       "30064639                                           16   \n",
       "30065213                                           16   \n",
       "\n",
       "         Видеокарта_Производитель видеопроцессора  \\\n",
       "30064639                                   NVIDIA   \n",
       "30065213                                   NVIDIA   \n",
       "\n",
       "         Операционная система_Операционная система  \\\n",
       "30064639                            не установлена   \n",
       "30065213                         Windows 11 Pro 64   \n",
       "\n",
       "         Корпус_Материал корпуса_пластик  \\\n",
       "30064639                            True   \n",
       "30065213                            True   \n",
       "\n",
       "          Безопасность_Датчик отпечатков пальцев_crop  \\\n",
       "30064639                                        False   \n",
       "30065213                                        False   \n",
       "\n",
       "         Процессор_Процессор_crop  Экран_Диагональ экрана_num  \\\n",
       "30064639               Intel Core                        15.6   \n",
       "30065213                AMD Ryzen                        15.6   \n",
       "\n",
       "          Жесткий диск_Объем SSD_num  Оперативная память_Частота памяти  \\\n",
       "30064639                         512                             3200.0   \n",
       "30065213                         512                             3200.0   \n",
       "\n",
       "          Экран_Частота обновления  basePrice  \n",
       "30064639                     144.0      89999  \n",
       "30065213                     144.0     149999  "
      ]
     },
     "execution_count": 24,
     "metadata": {},
     "output_type": "execute_result"
    }
   ],
   "source": [
    "sample = df.iloc[[100,101]]\n",
    "sample"
   ]
  },
  {
   "cell_type": "code",
   "execution_count": 25,
   "id": "751dc95a",
   "metadata": {},
   "outputs": [
    {
     "name": "stderr",
     "output_type": "stream",
     "text": [
      "C:\\Soft\\Anaconda\\lib\\site-packages\\sklearn\\base.py:450: UserWarning: X does not have valid feature names, but StandardScaler was fitted with feature names\n",
      "  warnings.warn(\n",
      "C:\\Users\\admin\\AppData\\Local\\Temp/ipykernel_46864/3820357852.py:1: SettingWithCopyWarning: \n",
      "A value is trying to be set on a copy of a slice from a DataFrame.\n",
      "Try using .loc[row_indexer,col_indexer] = value instead\n",
      "\n",
      "See the caveats in the documentation: https://pandas.pydata.org/pandas-docs/stable/user_guide/indexing.html#returning-a-view-versus-a-copy\n",
      "  sample.loc[:, numerical] = scaler.transform(sample[numerical].values)\n"
     ]
    }
   ],
   "source": [
    "sample.loc[:, numerical] = scaler.transform(sample[numerical].values)"
   ]
  },
  {
   "cell_type": "code",
   "execution_count": 26,
   "id": "e3f2c97e",
   "metadata": {},
   "outputs": [
    {
     "data": {
      "text/html": [
       "<div>\n",
       "<style scoped>\n",
       "    .dataframe tbody tr th:only-of-type {\n",
       "        vertical-align: middle;\n",
       "    }\n",
       "\n",
       "    .dataframe tbody tr th {\n",
       "        vertical-align: top;\n",
       "    }\n",
       "\n",
       "    .dataframe thead th {\n",
       "        text-align: right;\n",
       "    }\n",
       "</style>\n",
       "<table border=\"1\" class=\"dataframe\">\n",
       "  <thead>\n",
       "    <tr style=\"text-align: right;\">\n",
       "      <th></th>\n",
       "      <th>Процессор_Количество ядер</th>\n",
       "      <th>Корпус_Материал корпуса_металл</th>\n",
       "      <th>Заводские данные_Страна</th>\n",
       "      <th>Видеокарта_Графический контроллер_crop</th>\n",
       "      <th>brand_name</th>\n",
       "      <th>Заводские данные_Гарантия</th>\n",
       "      <th>Оперативная память_Оперативная память (RAM)</th>\n",
       "      <th>Видеокарта_Производитель видеопроцессора</th>\n",
       "      <th>Операционная система_Операционная система</th>\n",
       "      <th>Корпус_Материал корпуса_пластик</th>\n",
       "      <th>Безопасность_Датчик отпечатков пальцев_crop</th>\n",
       "      <th>Процессор_Процессор_crop</th>\n",
       "      <th>Экран_Диагональ экрана_num</th>\n",
       "      <th>Жесткий диск_Объем SSD_num</th>\n",
       "      <th>Оперативная память_Частота памяти</th>\n",
       "      <th>Экран_Частота обновления</th>\n",
       "      <th>basePrice</th>\n",
       "    </tr>\n",
       "  </thead>\n",
       "  <tbody>\n",
       "    <tr>\n",
       "      <th>30064639</th>\n",
       "      <td>0.339689</td>\n",
       "      <td>False</td>\n",
       "      <td>Китай</td>\n",
       "      <td>GeForce RTX</td>\n",
       "      <td>ASUS</td>\n",
       "      <td>1 год</td>\n",
       "      <td>0.698543</td>\n",
       "      <td>NVIDIA</td>\n",
       "      <td>не установлена</td>\n",
       "      <td>True</td>\n",
       "      <td>False</td>\n",
       "      <td>Intel Core</td>\n",
       "      <td>0.410425</td>\n",
       "      <td>-0.026206</td>\n",
       "      <td>0.412165</td>\n",
       "      <td>2.02246</td>\n",
       "      <td>89999</td>\n",
       "    </tr>\n",
       "    <tr>\n",
       "      <th>30065213</th>\n",
       "      <td>1.073142</td>\n",
       "      <td>True</td>\n",
       "      <td>Китай</td>\n",
       "      <td>GeForce RTX</td>\n",
       "      <td>Thunderobot</td>\n",
       "      <td>1 год</td>\n",
       "      <td>0.698543</td>\n",
       "      <td>NVIDIA</td>\n",
       "      <td>Windows 11 Pro 64</td>\n",
       "      <td>True</td>\n",
       "      <td>False</td>\n",
       "      <td>AMD Ryzen</td>\n",
       "      <td>0.410425</td>\n",
       "      <td>-0.026206</td>\n",
       "      <td>0.412165</td>\n",
       "      <td>2.02246</td>\n",
       "      <td>149999</td>\n",
       "    </tr>\n",
       "  </tbody>\n",
       "</table>\n",
       "</div>"
      ],
      "text/plain": [
       "          Процессор_Количество ядер Корпус_Материал корпуса_металл  \\\n",
       "30064639                   0.339689                          False   \n",
       "30065213                   1.073142                           True   \n",
       "\n",
       "         Заводские данные_Страна Видеокарта_Графический контроллер_crop  \\\n",
       "30064639                   Китай                            GeForce RTX   \n",
       "30065213                   Китай                            GeForce RTX   \n",
       "\n",
       "           brand_name Заводские данные_Гарантия  \\\n",
       "30064639         ASUS                     1 год   \n",
       "30065213  Thunderobot                     1 год   \n",
       "\n",
       "          Оперативная память_Оперативная память (RAM)  \\\n",
       "30064639                                     0.698543   \n",
       "30065213                                     0.698543   \n",
       "\n",
       "         Видеокарта_Производитель видеопроцессора  \\\n",
       "30064639                                   NVIDIA   \n",
       "30065213                                   NVIDIA   \n",
       "\n",
       "         Операционная система_Операционная система  \\\n",
       "30064639                            не установлена   \n",
       "30065213                         Windows 11 Pro 64   \n",
       "\n",
       "         Корпус_Материал корпуса_пластик  \\\n",
       "30064639                            True   \n",
       "30065213                            True   \n",
       "\n",
       "          Безопасность_Датчик отпечатков пальцев_crop  \\\n",
       "30064639                                        False   \n",
       "30065213                                        False   \n",
       "\n",
       "         Процессор_Процессор_crop  Экран_Диагональ экрана_num  \\\n",
       "30064639               Intel Core                    0.410425   \n",
       "30065213                AMD Ryzen                    0.410425   \n",
       "\n",
       "          Жесткий диск_Объем SSD_num  Оперативная память_Частота памяти  \\\n",
       "30064639                   -0.026206                           0.412165   \n",
       "30065213                   -0.026206                           0.412165   \n",
       "\n",
       "          Экран_Частота обновления  basePrice  \n",
       "30064639                   2.02246      89999  \n",
       "30065213                   2.02246     149999  "
      ]
     },
     "execution_count": 26,
     "metadata": {},
     "output_type": "execute_result"
    }
   ],
   "source": [
    "sample"
   ]
  },
  {
   "cell_type": "code",
   "execution_count": 27,
   "id": "21e3773a",
   "metadata": {},
   "outputs": [],
   "source": [
    "sample_sparse = dv.transform(sample.to_dict(orient=\"records\"))"
   ]
  },
  {
   "cell_type": "code",
   "execution_count": 28,
   "id": "bd762f0b",
   "metadata": {},
   "outputs": [
    {
     "data": {
      "text/plain": [
       "array([132052.9011317 , 120490.89968087])"
      ]
     },
     "execution_count": 28,
     "metadata": {},
     "output_type": "execute_result"
    }
   ],
   "source": [
    "model_linear.predict(sample_sparse)"
   ]
  },
  {
   "cell_type": "code",
   "execution_count": 29,
   "id": "cc92024b",
   "metadata": {},
   "outputs": [
    {
     "data": {
      "text/plain": [
       "array([ 93340.25      , 139908.93525253])"
      ]
     },
     "execution_count": 29,
     "metadata": {},
     "output_type": "execute_result"
    }
   ],
   "source": [
    "model_forest.predict(sample_sparse)"
   ]
  },
  {
   "cell_type": "code",
   "execution_count": 30,
   "id": "1e045d88",
   "metadata": {},
   "outputs": [
    {
     "data": {
      "text/plain": [
       "<AxesSubplot:>"
      ]
     },
     "execution_count": 30,
     "metadata": {},
     "output_type": "execute_result"
    },
    {
     "data": {
      "image/png": "[encoded data removed]",
      "text/plain": [
       "<Figure size 432x288 with 1 Axes>"
      ]
     },
     "metadata": {
      "needs_background": "light"
     },
     "output_type": "display_data"
    }
   ],
   "source": [
    "df.basePrice.hist()"
   ]
  },
  {
   "cell_type": "markdown",
   "id": "b1a10fc4",
   "metadata": {},
   "source": [
    "# Пробуем простую модель, которая предсказывает среднюю цену"
   ]
  },
  {
   "cell_type": "code",
   "execution_count": 42,
   "id": "98f7bf8d",
   "metadata": {},
   "outputs": [],
   "source": [
    "mean_price = 0\n",
    "def train_dummy(X, y):\n",
    "    global mean_price\n",
    "    mean_price = np.mean(y)"
   ]
  },
  {
   "cell_type": "code",
   "execution_count": 43,
   "id": "aae614ac",
   "metadata": {},
   "outputs": [],
   "source": [
    "train_dummy(X_train, y_train)"
   ]
  },
  {
   "cell_type": "code",
   "execution_count": 44,
   "id": "77ebdf15",
   "metadata": {},
   "outputs": [
    {
     "data": {
      "text/plain": [
       "98371.50402144772"
      ]
     },
     "execution_count": 44,
     "metadata": {},
     "output_type": "execute_result"
    }
   ],
   "source": [
    "mean_price"
   ]
  },
  {
   "cell_type": "code",
   "execution_count": 47,
   "id": "97d61d6a",
   "metadata": {},
   "outputs": [],
   "source": [
    "def predict_dummy(X):\n",
    "    return np.repeat(mean_price, X.shape[0])"
   ]
  },
  {
   "cell_type": "code",
   "execution_count": 49,
   "id": "7937fb84",
   "metadata": {},
   "outputs": [
    {
     "name": "stdout",
     "output_type": "stream",
     "text": [
      "RMSE train = 76179.38811265034\n",
      "RMSE test  = 81908.41795934962\n"
     ]
    }
   ],
   "source": [
    "y_pred_train = predict_dummy(X_train)\n",
    "y_pred_test = predict_dummy(X_test)\n",
    "\n",
    "print(f\"RMSE train = {mean_squared_error(y_train, y_pred_train) ** 0.5}\")\n",
    "print(f\"RMSE test  = {mean_squared_error(y_test, y_pred_test) ** 0.5}\")"
   ]
  },
  {
   "cell_type": "code",
   "execution_count": null,
   "id": "dd21c43d",
   "metadata": {},
   "outputs": [],
   "source": []
  }
 ],
 "metadata": {
  "kernelspec": {
   "display_name": "Python 3 (ipykernel)",
   "language": "python",
   "name": "python3"
  },
  "language_info": {
   "codemirror_mode": {
    "name": "ipython",
    "version": 3
   },
   "file_extension": ".py",
   "mimetype": "text/x-python",
   "name": "python",
   "nbconvert_exporter": "python",
   "pygments_lexer": "ipython3",
   "version": "3.9.7"
  }
 },
 "nbformat": 4,
 "nbformat_minor": 5
}
