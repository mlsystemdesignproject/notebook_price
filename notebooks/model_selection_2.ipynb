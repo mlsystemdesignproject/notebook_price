{
 "cells": [
  {
   "cell_type": "markdown",
   "id": "ce25b3b9",
   "metadata": {},
   "source": [
    "# Выберем лучшую из двух моделей по предсказанию доверительных интвералов\n",
    "- Catboost и одинаковые интервалы\n",
    "- NGBoost"
   ]
  },
  {
   "cell_type": "code",
   "execution_count": 63,
   "id": "c85b010a",
   "metadata": {},
   "outputs": [],
   "source": [
    "import pandas as pd\n",
    "import numpy as np\n",
    "import pickle\n",
    "\n",
    "from sklearn.model_selection import train_test_split\n",
    "from catboost import CatBoostRegressor, Pool"
   ]
  },
  {
   "cell_type": "code",
   "execution_count": 8,
   "id": "5125224d",
   "metadata": {},
   "outputs": [],
   "source": [
    "SEED = 42"
   ]
  },
  {
   "cell_type": "code",
   "execution_count": 9,
   "id": "0ce90d75",
   "metadata": {},
   "outputs": [],
   "source": [
    "df = pd.read_csv(\"../data/processed/clean_data.csv\")"
   ]
  },
  {
   "cell_type": "code",
   "execution_count": 12,
   "id": "67389717",
   "metadata": {},
   "outputs": [],
   "source": [
    "df_train, df_test = train_test_split(df, shuffle=True, random_state=SEED)\n",
    "y_train = df_train.priceLog\n",
    "y_test = df_test.priceLog\n",
    "X_train = df_train.drop(\"priceLog\", axis=1)\n",
    "X_test = df_test.drop(\"priceLog\", axis=1)"
   ]
  },
  {
   "cell_type": "code",
   "execution_count": 54,
   "id": "2f945490",
   "metadata": {},
   "outputs": [],
   "source": [
    "def accuracy_ci_score(y_real, min_values, max_values):\n",
    "    acc = np.mean(((y_real > min_values) & (y_real < max_values)))\n",
    "    range = np.mean(max_values - min_values)\n",
    "    return acc, range"
   ]
  },
  {
   "cell_type": "markdown",
   "id": "995e1b46",
   "metadata": {},
   "source": [
    "# CatBoost"
   ]
  },
  {
   "cell_type": "code",
   "execution_count": 43,
   "id": "4da8c265",
   "metadata": {},
   "outputs": [],
   "source": [
    "cat_boost_path = \"../models/cagboost_model.bin\"\n",
    "model = CatBoostRegressor().load_model(cat_boost_path)"
   ]
  },
  {
   "cell_type": "code",
   "execution_count": 44,
   "id": "016160c4",
   "metadata": {},
   "outputs": [],
   "source": [
    "preds = model.predict(X_test)"
   ]
  },
  {
   "cell_type": "code",
   "execution_count": 62,
   "id": "7d8322c9",
   "metadata": {},
   "outputs": [
    {
     "name": "stdout",
     "output_type": "stream",
     "text": [
      "0.0 = acc = 0.0, ci range = 0.0\n",
      "0.01 = acc = 0.08, ci range = 0.02\n",
      "0.2 = acc = 0.7, ci range = 0.4\n",
      "0.3 = acc = 0.89, ci range = 0.6\n",
      "0.35 = acc = 0.93, ci range = 0.7\n",
      "0.4 = acc = 0.96, ci range = 0.8\n",
      "0.5 = acc = 0.98, ci range = 1.0\n",
      "1 = acc = 1.0, ci range = 2.0\n"
     ]
    }
   ],
   "source": [
    "for shift in [0.000, 0.01, 0.2, 0.3, 0.35, 0.4, 0.5, 1]:\n",
    "    v, r = accuracy_ci_score(y_test, preds-shift, preds+shift)\n",
    "    print(f\"{shift} = acc = {round(v,2)}, ci range = {round(r,2)}\")"
   ]
  },
  {
   "cell_type": "markdown",
   "id": "451df1f5",
   "metadata": {},
   "source": [
    "Можно для точности угадывания 93-96 процентов мы можем взять предсазание логарифм цены +- 0.35 (разброс 0.7)"
   ]
  },
  {
   "cell_type": "markdown",
   "id": "75a57da4",
   "metadata": {},
   "source": [
    "# NGBoost"
   ]
  },
  {
   "cell_type": "code",
   "execution_count": 74,
   "id": "ef783314",
   "metadata": {},
   "outputs": [],
   "source": [
    "ng_boost_path = \"../models/ngboost_model.pkl\"\n",
    "with open(ng_boost_path, \"rb\") as f:\n",
    "    model, dv = pickle.load(f)"
   ]
  },
  {
   "cell_type": "code",
   "execution_count": 75,
   "id": "b86824f8",
   "metadata": {},
   "outputs": [],
   "source": [
    "def get_ci(model: NGBRegressor, X: np.array) -> np.array:\n",
    "    \"\"\"Get predictions, and 95% confidence interval for X\"\"\"\n",
    "    z_score = 1.95  # 95% confidence interval\n",
    "    preds = model.pred_param(X)\n",
    "    mean = preds[:, 0]\n",
    "    lower = preds[:, 0] - z_score * np.exp(preds[:, 1])\n",
    "    upper = preds[:, 0] + z_score * np.exp(preds[:, 1])\n",
    "    return np.c_[mean, lower, upper]"
   ]
  },
  {
   "cell_type": "code",
   "execution_count": 77,
   "id": "7eb6246d",
   "metadata": {},
   "outputs": [],
   "source": [
    "X_for_ngboost = dv.transform(X_test.to_dict(orient=\"records\"))"
   ]
  },
  {
   "cell_type": "code",
   "execution_count": 78,
   "id": "ce54dc9d",
   "metadata": {},
   "outputs": [],
   "source": [
    "preds = get_ci(model, X_for_ngboost)"
   ]
  },
  {
   "cell_type": "code",
   "execution_count": 81,
   "id": "b7b0c1c9",
   "metadata": {},
   "outputs": [
    {
     "name": "stdout",
     "output_type": "stream",
     "text": [
      "ngboost = acc = 0.96, ci range = 0.59\n"
     ]
    }
   ],
   "source": [
    "v, r = accuracy_ci_score(y_test, preds[:,1], preds[:,2])\n",
    "print(f\"ngboost = acc = {round(v,2)}, ci range = {round(r,2)}\")"
   ]
  },
  {
   "cell_type": "markdown",
   "id": "1d66bb64",
   "metadata": {},
   "source": [
    "Для NGboost диапазон предсказывается точнее, и для 96% попадания в доверительный интервал средний разброс 0.59 (+-0.3)"
   ]
  },
  {
   "cell_type": "markdown",
   "id": "6442282d",
   "metadata": {},
   "source": [
    "# Вывод"
   ]
  },
  {
   "cell_type": "markdown",
   "id": "06f9141d",
   "metadata": {},
   "source": [
    "Будем использовать модель NGBoost, т.к. доверительный интервал у нее получается считать точнее.  \n",
    "Хотя ошибка все равно достаточно большая, и возможн нам стоить уменьшить интервал (брать не 95%, а 80% или может 60%)  "
   ]
  },
  {
   "cell_type": "code",
   "execution_count": null,
   "id": "857f42dd",
   "metadata": {},
   "outputs": [],
   "source": []
  }
 ],
 "metadata": {
  "kernelspec": {
   "display_name": "Python 3 (ipykernel)",
   "language": "python",
   "name": "python3"
  },
  "language_info": {
   "codemirror_mode": {
    "name": "ipython",
    "version": 3
   },
   "file_extension": ".py",
   "mimetype": "text/x-python",
   "name": "python",
   "nbconvert_exporter": "python",
   "pygments_lexer": "ipython3",
   "version": "3.9.7"
  }
 },
 "nbformat": 4,
 "nbformat_minor": 5
}
